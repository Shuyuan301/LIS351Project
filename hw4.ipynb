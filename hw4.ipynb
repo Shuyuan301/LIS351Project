{
  "nbformat": 4,
  "nbformat_minor": 0,
  "metadata": {
    "colab": {
      "name": "hw4.ipynb",
      "provenance": [],
      "collapsed_sections": [],
      "include_colab_link": true
    },
    "kernelspec": {
      "display_name": "Python 3",
      "language": "python",
      "name": "python3"
    },
    "language_info": {
      "codemirror_mode": {
        "name": "ipython",
        "version": 3
      },
      "file_extension": ".py",
      "mimetype": "text/x-python",
      "name": "python",
      "nbconvert_exporter": "python",
      "pygments_lexer": "ipython3",
      "version": "3.8.5"
    }
  },
  "cells": [
    {
      "cell_type": "markdown",
      "metadata": {
        "id": "view-in-github",
        "colab_type": "text"
      },
      "source": [
        "<a href=\"https://colab.research.google.com/github/Shuyuan301/Shuyuan301.github.io/blob/main/hw4.ipynb\" target=\"_parent\"><img src=\"https://colab.research.google.com/assets/colab-badge.svg\" alt=\"Open In Colab\"/></a>"
      ]
    },
    {
      "cell_type": "markdown",
      "metadata": {
        "id": "NI1t86uZAqpj"
      },
      "source": [
        "## 1 Set Up Environment\n",
        "\n",
        "We require the following packages and versions:\n",
        "* scikit-learn<0.24 (note that sklearn-crfsuite is incompatible with scikit-learn>=0.24)\n",
        "* sklearn-crfsuite==0.3.6 (https://github.com/TeamHG-Memex/sklearn-crfsuite)"
      ]
    },
    {
      "cell_type": "code",
      "metadata": {
        "id": "IGkimm1SunI2",
        "colab": {
          "base_uri": "https://localhost:8080/"
        },
        "outputId": "a30d4c71-2cd8-4797-8fa4-16065050cc45"
      },
      "source": [
        "# Install & upgrade packages on Google Colab\n",
        "\n",
        "# upgrade pip\n",
        "!pip3 install pip --upgrade\n",
        "\n",
        "# install scikit-learn 0.23.x (note that sklearn-crfsuite is inconsistent with scikit-learn>=0.24)\n",
        "!pip3 install 'scikit-learn>=0.23.0,<0.24.0' --upgrade\n",
        "\n",
        "# install scikit-learn 0.3.6\n",
        "!pip3 install 'sklearn-crfsuite==0.3.6' --upgrade"
      ],
      "execution_count": null,
      "outputs": [
        {
          "output_type": "stream",
          "text": [
            "Collecting pip\n",
            "\u001b[?25l  Downloading https://files.pythonhosted.org/packages/fe/ef/60d7ba03b5c442309ef42e7d69959f73aacccd0d86008362a681c4698e83/pip-21.0.1-py3-none-any.whl (1.5MB)\n",
            "\u001b[K     |████████████████████████████████| 1.5MB 6.7MB/s \n",
            "\u001b[?25hInstalling collected packages: pip\n",
            "  Found existing installation: pip 19.3.1\n",
            "    Uninstalling pip-19.3.1:\n",
            "      Successfully uninstalled pip-19.3.1\n",
            "Successfully installed pip-21.0.1\n",
            "Collecting scikit-learn<0.24.0,>=0.23.0\n",
            "  Downloading scikit_learn-0.23.2-cp37-cp37m-manylinux1_x86_64.whl (6.8 MB)\n",
            "\u001b[K     |████████████████████████████████| 6.8 MB 6.9 MB/s \n",
            "\u001b[?25hCollecting threadpoolctl>=2.0.0\n",
            "  Downloading threadpoolctl-2.1.0-py3-none-any.whl (12 kB)\n",
            "Requirement already satisfied: numpy>=1.13.3 in /usr/local/lib/python3.7/dist-packages (from scikit-learn<0.24.0,>=0.23.0) (1.19.5)\n",
            "Requirement already satisfied: scipy>=0.19.1 in /usr/local/lib/python3.7/dist-packages (from scikit-learn<0.24.0,>=0.23.0) (1.4.1)\n",
            "Requirement already satisfied: joblib>=0.11 in /usr/local/lib/python3.7/dist-packages (from scikit-learn<0.24.0,>=0.23.0) (1.0.1)\n",
            "Installing collected packages: threadpoolctl, scikit-learn\n",
            "  Attempting uninstall: scikit-learn\n",
            "    Found existing installation: scikit-learn 0.22.2.post1\n",
            "    Uninstalling scikit-learn-0.22.2.post1:\n",
            "      Successfully uninstalled scikit-learn-0.22.2.post1\n",
            "Successfully installed scikit-learn-0.23.2 threadpoolctl-2.1.0\n",
            "Collecting sklearn-crfsuite==0.3.6\n",
            "  Downloading sklearn_crfsuite-0.3.6-py2.py3-none-any.whl (12 kB)\n",
            "Requirement already satisfied: six in /usr/local/lib/python3.7/dist-packages (from sklearn-crfsuite==0.3.6) (1.15.0)\n",
            "Collecting python-crfsuite>=0.8.3\n",
            "  Downloading python_crfsuite-0.9.7-cp37-cp37m-manylinux1_x86_64.whl (743 kB)\n",
            "\u001b[K     |████████████████████████████████| 743 kB 5.4 MB/s \n",
            "\u001b[?25hRequirement already satisfied: tabulate in /usr/local/lib/python3.7/dist-packages (from sklearn-crfsuite==0.3.6) (0.8.9)\n",
            "Requirement already satisfied: tqdm>=2.0 in /usr/local/lib/python3.7/dist-packages (from sklearn-crfsuite==0.3.6) (4.41.1)\n",
            "Installing collected packages: python-crfsuite, sklearn-crfsuite\n",
            "Successfully installed python-crfsuite-0.9.7 sklearn-crfsuite-0.3.6\n"
          ],
          "name": "stdout"
        }
      ]
    },
    {
      "cell_type": "markdown",
      "metadata": {
        "id": "HsMJNcX4QLAR"
      },
      "source": [
        "## 2 Download the CoNLL2003 NER dataset and the Twitter NER dataset\n",
        "\n",
        "CoNLL2003 NER dataset:\n",
        "* training set: https://jiepujiang.github.io/data/CoNLL2003_ner_train.txt\n",
        "* test set: https://jiepujiang.github.io/data/CoNLL2003_ner_test.txt\n",
        "\n",
        "Twitter NER dataset:\n",
        "* whole dataset: https://jiepujiang.github.io/data/twitter_ner.txt"
      ]
    },
    {
      "cell_type": "code",
      "metadata": {
        "id": "sMz-59pB0z7T"
      },
      "source": [
        "# A utility function for reading the dataset (from the web).\n",
        "# Only load the first (word) and last columns (IOB label).\n",
        "\n",
        "import re\n",
        "import requests\n",
        "\n",
        "# regularize the name for person and geo-loc tags on different datasets\n",
        "def transform_label(old):\n",
        "    if old=='B-PER' or old=='B-person':\n",
        "        return 'B-PER'\n",
        "    if old=='I-PER' or old=='I-person':\n",
        "        return 'I-PER'\n",
        "    if old=='B-LOC' or old=='B-geo-loc':\n",
        "        return 'B-LOC'\n",
        "    if old=='I-LOC' or old=='I-geo-loc':\n",
        "        return 'I-LOC'\n",
        "    return old\n",
        "\n",
        "def load_dataset(url):\n",
        "    sents = []\n",
        "    response = requests.get(url)\n",
        "    sent = []\n",
        "    for line in response.iter_lines(decode_unicode=True):\n",
        "        line = line.strip()\n",
        "        if len(line)==0 or line[0:10]=='-DOCSTART-':\n",
        "            if len(sent)>0:\n",
        "                sents.append(sent)\n",
        "                sent = []\n",
        "        else:\n",
        "            tokens = re.split('\\\\s+', line)\n",
        "            sent.append([tokens[0], transform_label(tokens[-1])])\n",
        "    return sents"
      ],
      "execution_count": null,
      "outputs": []
    },
    {
      "cell_type": "code",
      "metadata": {
        "id": "ceVQfsaHmoyx",
        "colab": {
          "base_uri": "https://localhost:8080/"
        },
        "outputId": "2ca67256-7a3e-4276-dbc8-5a7beb1f68c8"
      },
      "source": [
        "# load the dataset files\n",
        "\n",
        "url_conll2003_train = 'https://jiepujiang.github.io/data/CoNLL2003_ner_train.txt'\n",
        "url_conll2003_test = 'https://jiepujiang.github.io/data/CoNLL2003_ner_test.txt'\n",
        "url_twitter_ner = 'https://jiepujiang.github.io/data/twitter_ner.txt'\n",
        "\n",
        "conll2003_train = load_dataset(url_conll2003_train)\n",
        "conll2003_test = load_dataset(url_conll2003_test)\n",
        "twitter_ner = load_dataset(url_twitter_ner)\n",
        "\n",
        "print( len(conll2003_train), len(conll2003_test), len(twitter_ner) )"
      ],
      "execution_count": null,
      "outputs": [
        {
          "output_type": "stream",
          "text": [
            "14041 3453 2394\n"
          ],
          "name": "stdout"
        }
      ]
    },
    {
      "cell_type": "markdown",
      "metadata": {
        "id": "gmQETdselxQs"
      },
      "source": [
        "# 3 Compute values for table1"
      ]
    },
    {
      "cell_type": "code",
      "metadata": {
        "id": "6kgRKyHzUam6"
      },
      "source": [
        "import re\n",
        "def feat_w(sent, i, offset):\n",
        "    if i+offset<0:\n",
        "        return { 'w[%d]' % offset : '<S>' }\n",
        "    if i+offset>=len(sent):\n",
        "        return { 'w[%d]' % offset : '</S>' }\n",
        "    else:\n",
        "        return { 'w[%d]' % offset : sent[i+offset][0] }\n",
        "\n",
        "# prefix\n",
        "def feat_prefix(sent, i, len):\n",
        "    return { 'prefix[len=%d]' % len: sent[i][0][:len] }\n",
        "# suffix\n",
        "def feat_suffix(sent, i, len):\n",
        "    return { 'suffix[len=%d]' % len: sent[i][0][-len:] }\n",
        "\n",
        "# a simple word shape feature: uppercase letter-->X, lowercase-->x, digit-->d\n",
        "def feat_wordshape(sent, i):\n",
        "    shape = re.sub('[A-Z]', 'X', sent[i][0])\n",
        "    shape = re.sub('[a-z]', 'x', shape)\n",
        "    shape = re.sub('[0-9]', 'd', shape)\n",
        "    return { 'shape':shape }\n",
        "# shortened word shape\n",
        "def feat_wordshape_short(sent, i):\n",
        "    shape = feat_wordshape(sent, i)['shape'];\n",
        "    shape = re.sub('X+', 'X', shape)\n",
        "    shape = re.sub('x+', 'x', shape)\n",
        "    shape = re.sub('d+', 'd', shape)\n",
        "    return { 'shapeshort':shape }"
      ],
      "execution_count": 187,
      "outputs": []
    },
    {
      "cell_type": "code",
      "metadata": {
        "id": "c7RU6hnLUaow"
      },
      "source": [
        "# prepare features for a sentence\n",
        "def feat_sent(sent):\n",
        "    sent_feats = []\n",
        "    for i in range(len(sent)):\n",
        "        feats = {}\n",
        "        # word features\n",
        "        feats.update(feat_w(sent, i, 0))\n",
        "        feats.update(feat_w(sent, i, 1))\n",
        "        feats.update(feat_w(sent, i, -1))\n",
        "\n",
        "        # prefix and suffix\n",
        "        feats.update( feat_prefix(sent, i, 3) )\n",
        "        feats.update( feat_prefix(sent, i, 4) )\n",
        "        feats.update( feat_prefix(sent, i, 5) )\n",
        "        feats.update( feat_suffix(sent, i, 3) )\n",
        "        feats.update( feat_suffix(sent, i, 4) )\n",
        "        feats.update( feat_suffix(sent, i, 5) )\n",
        "\n",
        "        # word shape\n",
        "        feats.update( feat_wordshape(sent, i) )\n",
        "        feats.update( feat_wordshape_short(sent, i) )\n",
        "        sent_feats.append(feats)\n",
        "\n",
        "    return sent_feats"
      ],
      "execution_count": 188,
      "outputs": []
    },
    {
      "cell_type": "code",
      "metadata": {
        "id": "SsRJG2I5Uaqt"
      },
      "source": [
        "def label_sent(sent):\n",
        "    return [ token[1] for token in sent ]"
      ],
      "execution_count": 189,
      "outputs": []
    },
    {
      "cell_type": "code",
      "metadata": {
        "id": "o35OkOLFUavL"
      },
      "source": [
        "train_X = [ feat_sent(sent) for sent in conll2003_train]\n",
        "train_Y = [ label_sent(sent) for sent in conll2003_train]\n",
        "\n",
        "test_X = [ feat_sent(sent) for sent in conll2003_test ]\n",
        "test_Y = [ label_sent(sent) for sent in conll2003_test ]"
      ],
      "execution_count": 190,
      "outputs": []
    },
    {
      "cell_type": "code",
      "metadata": {
        "colab": {
          "base_uri": "https://localhost:8080/"
        },
        "id": "ACVkGKx2Uayd",
        "outputId": "72435e97-af84-4844-ae4f-88aaf3a5635f"
      },
      "source": [
        "\n",
        "import sklearn_crfsuite\n",
        "from sklearn_crfsuite import scorers\n",
        "from sklearn_crfsuite import metrics\n",
        "\n",
        "crf = sklearn_crfsuite.CRF()\n",
        "\n",
        "# train a CRF model on the training set\n",
        "crf.fit(train_X, train_Y)"
      ],
      "execution_count": 191,
      "outputs": [
        {
          "output_type": "stream",
          "text": [
            "/usr/local/lib/python3.7/dist-packages/sklearn/base.py:213: FutureWarning: From version 0.24, get_params will raise an AttributeError if a parameter cannot be retrieved as an instance attribute. Previously it would return None.\n",
            "  FutureWarning)\n"
          ],
          "name": "stderr"
        },
        {
          "output_type": "execute_result",
          "data": {
            "text/plain": [
              "CRF(keep_tempfiles=None)"
            ]
          },
          "metadata": {
            "tags": []
          },
          "execution_count": 191
        }
      ]
    },
    {
      "cell_type": "code",
      "metadata": {
        "id": "5dzICf-1dhpt"
      },
      "source": [
        "test_Y_pred = crf.predict(test_X)"
      ],
      "execution_count": 192,
      "outputs": []
    },
    {
      "cell_type": "code",
      "metadata": {
        "id": "yleghTnr_Tgp"
      },
      "source": [
        "# pred_list PER\n",
        "mylist=[]\n",
        "for i in range(0,len(test_Y_pred)):\n",
        "  if test_Y_pred[i][len(test_Y_pred[i])-1]=='B-PER':\n",
        "    mylist.append((i,len(test_Y_pred[i])-1,len(test_Y_pred[i])-1))\n",
        "  for j in range(0,len(test_Y_pred[i])):\n",
        "    if test_Y_pred[i][j]=='B-PER':\n",
        "      for h in range(1,len(test_Y_pred[i])-j):\n",
        "          if test_Y_pred[i][j+h]!='I-PER':\n",
        "              mylist.append((i,j,j+h-1))\n",
        "              break\n",
        "          else:\n",
        "            if  test_Y_pred[i][j+h]=='I-PER' and h==len(test_Y_pred[i])-j-1:\n",
        "              mylist.append((i,j,j+h))\n"
      ],
      "execution_count": 193,
      "outputs": []
    },
    {
      "cell_type": "code",
      "metadata": {
        "id": "B-qLuEd8vUJ9"
      },
      "source": [
        "# pred_list lOC\n",
        "myLOClist=[]\n",
        "for i in range(0,len(test_Y_pred)):\n",
        "  if test_Y_pred[i][len(test_Y_pred[i])-1]=='B-LOC':\n",
        "    myLOClist.append((i,len(test_Y_pred[i])-1,len(test_Y_pred[i])-1))\n",
        "  for j in range(0,len(test_Y_pred[i])):\n",
        "    if test_Y_pred[i][j]=='B-LOC':\n",
        "      for h in range(1,len(test_Y_pred[i])-j):\n",
        "          if test_Y_pred[i][j+h]!='I-LOC':\n",
        "              myLOClist.append((i,j,j+h-1))\n",
        "              break\n",
        "          else:\n",
        "            if  test_Y_pred[i][j+h]=='I-LOC' and h==len(test_Y_pred[i])-j-1:\n",
        "              myLOClist.append((i,j,j+h))"
      ],
      "execution_count": 194,
      "outputs": []
    },
    {
      "cell_type": "code",
      "metadata": {
        "id": "Z4jB_KsxlBnd"
      },
      "source": [
        "# PERSON position\n",
        "true_PERlist=[]\n",
        "\n",
        "for i in range(0,len(conll2003_test)):\n",
        "  if conll2003_test[i][len(conll2003_test[i])-1][1]=='B-PER':\n",
        "    true_PERlist.append((i,len(conll2003_test[i])-1,len(conll2003_test[i])-1))\n",
        "  for j in range(0,len(conll2003_test[i])):\n",
        "    if conll2003_test[i][j][1]=='B-PER':\n",
        "      for h in range(1,len(conll2003_test[i])-j):\n",
        "        if conll2003_test[i][j+h][1]!='I-PER':\n",
        "          true_PERlist.append((i,j,j+h-1))\n",
        "          #print((i,j,j+h-1))\n",
        "          break\n",
        "        else:\n",
        "          if  conll2003_test[i][j+h][1]=='I-PER' and h==len(conll2003_test[i])-j-1: # if 'I-PER' in the end\n",
        "            true_PERlist.append((i,j,j+h))"
      ],
      "execution_count": 195,
      "outputs": []
    },
    {
      "cell_type": "code",
      "metadata": {
        "id": "ehXqOhFculj3"
      },
      "source": [
        "# LOC position\n",
        "true_LOClist=[]\n",
        "for i in range(0,len(conll2003_test)):\n",
        "  if conll2003_test[i][len(conll2003_test[i])-1][1]=='B-LOC':\n",
        "    true_LOClist.append((i,len(conll2003_test[i])-1,len(conll2003_test[i])-1))\n",
        "  for j in range(0,len(conll2003_test[i])):\n",
        "    if conll2003_test[i][j][1]=='B-LOC':\n",
        "      for h in range(1,len(conll2003_test[i])-j):\n",
        "        if conll2003_test[i][j+h][1]!='I-LOC':\n",
        "          true_LOClist.append((i,j,j+h-1))\n",
        "          #print((i,j,j+h-1))\n",
        "          break\n",
        "        else:\n",
        "          if  conll2003_test[i][j+h][1]=='I-LOC' and h==len(conll2003_test[i])-j-1: # if 'I-LOC' in the end\n",
        "            true_LOClist.append((i,j,j+h))"
      ],
      "execution_count": 197,
      "outputs": []
    },
    {
      "cell_type": "code",
      "metadata": {
        "id": "HfL2lw1Cmjl9"
      },
      "source": [
        "def evla(predlist,truelist):\n",
        "  a = [x for x in predlist if x in truelist] \n",
        "  recall=len(a)/len(truelist)\n",
        "  preci=len(a)/len(predlist)\n",
        "  f1=(2*recall*preci)/(recall+preci)\n",
        "  return {'precison':preci,'recall':recall,'F1_score':f1}"
      ],
      "execution_count": 198,
      "outputs": []
    },
    {
      "cell_type": "code",
      "metadata": {
        "colab": {
          "base_uri": "https://localhost:8080/"
        },
        "id": "6nj8xh7WmC3J",
        "outputId": "4a8f6bd8-fdf8-4b3d-852a-5d9a43e01be9"
      },
      "source": [
        "evla(mylist,true_PERlist) #table_1,all features PER"
      ],
      "execution_count": 199,
      "outputs": [
        {
          "output_type": "execute_result",
          "data": {
            "text/plain": [
              "{'F1_score': 0.852760736196319,\n",
              " 'precison': 0.8460133901399878,\n",
              " 'recall': 0.8596165739022882}"
            ]
          },
          "metadata": {
            "tags": []
          },
          "execution_count": 199
        }
      ]
    },
    {
      "cell_type": "code",
      "metadata": {
        "colab": {
          "base_uri": "https://localhost:8080/"
        },
        "id": "Pwx_-Z70vlIu",
        "outputId": "e50ca8eb-66c4-4bea-e51e-55f1979d59e4"
      },
      "source": [
        "evla(myLOClist,true_LOClist) #table_1,all features LOC"
      ],
      "execution_count": 200,
      "outputs": [
        {
          "output_type": "execute_result",
          "data": {
            "text/plain": [
              "{'F1_score': 0.8587809293904647,\n",
              " 'precison': 0.8645200486026732,\n",
              " 'recall': 0.8531175059952039}"
            ]
          },
          "metadata": {
            "tags": []
          },
          "execution_count": 200
        }
      ]
    },
    {
      "cell_type": "markdown",
      "metadata": {
        "id": "yWr9qvsvH2sJ"
      },
      "source": [
        "**Remove the word feature**"
      ]
    },
    {
      "cell_type": "code",
      "metadata": {
        "id": "XIFd0fxfvvIY"
      },
      "source": [
        "# remove the word feature \n",
        "\n",
        "def feat_sent(sent):\n",
        "    sent_feats = []\n",
        "    for i in range(len(sent)):\n",
        "        feats = {}\n",
        "\n",
        "        # prefix and suffix\n",
        "        feats.update( feat_prefix(sent, i, 3) )\n",
        "        feats.update( feat_prefix(sent, i, 4) )\n",
        "        feats.update( feat_prefix(sent, i, 5) )\n",
        "        feats.update( feat_suffix(sent, i, 3) )\n",
        "        feats.update( feat_suffix(sent, i, 4) )\n",
        "        feats.update( feat_suffix(sent, i, 5) )\n",
        "\n",
        "        # word shape\n",
        "        feats.update( feat_wordshape(sent, i) )\n",
        "        feats.update( feat_wordshape_short(sent, i) )\n",
        "        sent_feats.append(feats)\n",
        "\n",
        "    return sent_feats"
      ],
      "execution_count": 201,
      "outputs": []
    },
    {
      "cell_type": "code",
      "metadata": {
        "id": "sGzy9izgvv4l"
      },
      "source": [
        "def label_sent(sent):\n",
        "    return [ token[1] for token in sent ]"
      ],
      "execution_count": 202,
      "outputs": []
    },
    {
      "cell_type": "code",
      "metadata": {
        "id": "u_6E5_RFvv77",
        "colab": {
          "base_uri": "https://localhost:8080/"
        },
        "outputId": "c8e77ae3-5d6e-474a-8300-5d3facaade4d"
      },
      "source": [
        "\n",
        "train_X = [ feat_sent(sent) for sent in conll2003_train]\n",
        "train_Y = [ label_sent(sent) for sent in conll2003_train]\n",
        "\n",
        "test_X = [ feat_sent(sent) for sent in conll2003_test ]\n",
        "test_Y = [ label_sent(sent) for sent in conll2003_test ]\n",
        "\n",
        "crf = sklearn_crfsuite.CRF()\n",
        "\n",
        "# train a CRF model on the training set\n",
        "crf.fit(train_X, train_Y)"
      ],
      "execution_count": 203,
      "outputs": [
        {
          "output_type": "stream",
          "text": [
            "/usr/local/lib/python3.7/dist-packages/sklearn/base.py:213: FutureWarning: From version 0.24, get_params will raise an AttributeError if a parameter cannot be retrieved as an instance attribute. Previously it would return None.\n",
            "  FutureWarning)\n"
          ],
          "name": "stderr"
        },
        {
          "output_type": "execute_result",
          "data": {
            "text/plain": [
              "CRF(keep_tempfiles=None)"
            ]
          },
          "metadata": {
            "tags": []
          },
          "execution_count": 203
        }
      ]
    },
    {
      "cell_type": "code",
      "metadata": {
        "id": "2WEz8UduGT6z"
      },
      "source": [
        "test_Y_pred = crf.predict(test_X)"
      ],
      "execution_count": 204,
      "outputs": []
    },
    {
      "cell_type": "code",
      "metadata": {
        "id": "yyz15ydiehFs"
      },
      "source": [
        "mylist=[]\n",
        "for i in range(0,len(test_Y_pred)):\n",
        "  if test_Y_pred[i][len(test_Y_pred[i])-1]=='B-PER':\n",
        "    mylist.append((i,len(test_Y_pred[i])-1,len(test_Y_pred[i])-1))\n",
        "  for j in range(0,len(test_Y_pred[i])):\n",
        "    if test_Y_pred[i][j]=='B-PER':\n",
        "      for h in range(1,len(test_Y_pred[i])-j):\n",
        "          if test_Y_pred[i][j+h]!='I-PER':\n",
        "              mylist.append((i,j,j+h-1))\n",
        "              break\n",
        "          else:\n",
        "            if  test_Y_pred[i][j+h]=='I-PER' and h==len(test_Y_pred[i])-j-1:\n",
        "              mylist.append((i,j,j+h))"
      ],
      "execution_count": 205,
      "outputs": []
    },
    {
      "cell_type": "code",
      "metadata": {
        "id": "yMXSN6HQehJB"
      },
      "source": [
        "myLOClist=[]\n",
        "for i in range(0,len(test_Y_pred)):\n",
        "  if test_Y_pred[i][len(test_Y_pred[i])-1]=='B-LOC':\n",
        "    myLOClist.append((i,len(test_Y_pred[i])-1,len(test_Y_pred[i])-1))\n",
        "  for j in range(0,len(test_Y_pred[i])):\n",
        "    if test_Y_pred[i][j]=='B-LOC':\n",
        "      for h in range(1,len(test_Y_pred[i])-j):\n",
        "          if test_Y_pred[i][j+h]!='I-LOC':\n",
        "              myLOClist.append((i,j,j+h-1))\n",
        "              break\n",
        "          else:\n",
        "            if  test_Y_pred[i][j+h]=='I-LOC' and h==len(test_Y_pred[i])-j-1:\n",
        "              myLOClist.append((i,j,j+h))"
      ],
      "execution_count": 206,
      "outputs": []
    },
    {
      "cell_type": "code",
      "metadata": {
        "id": "cX81kD-XGl8W"
      },
      "source": [
        "true_PERlist=[]\n",
        "\n",
        "for i in range(0,len(conll2003_test)):\n",
        "  if conll2003_test[i][len(conll2003_test[i])-1][1]=='B-PER':\n",
        "    true_PERlist.append((i,len(conll2003_test[i])-1,len(conll2003_test[i])-1))\n",
        "  for j in range(0,len(conll2003_test[i])):\n",
        "    if conll2003_test[i][j][1]=='B-PER':\n",
        "      for h in range(1,len(conll2003_test[i])-j):\n",
        "        if conll2003_test[i][j+h][1]!='I-PER':\n",
        "          true_PERlist.append((i,j,j+h-1))\n",
        "          #print((i,j,j+h-1))\n",
        "          break\n",
        "        else:\n",
        "          if  conll2003_test[i][j+h][1]=='I-PER' and h==len(conll2003_test[i])-j-1: # if 'I-PER' in the end\n",
        "            true_PERlist.append((i,j,j+h))\n"
      ],
      "execution_count": 207,
      "outputs": []
    },
    {
      "cell_type": "code",
      "metadata": {
        "id": "eSVAzrQrGl-Q"
      },
      "source": [
        "true_LOClist=[]\n",
        "for i in range(0,len(conll2003_test)):\n",
        "  if conll2003_test[i][len(conll2003_test[i])-1][1]=='B-LOC':\n",
        "    true_LOClist.append((i,len(conll2003_test[i])-1,len(conll2003_test[i])-1))\n",
        "  for j in range(0,len(conll2003_test[i])):\n",
        "    if conll2003_test[i][j][1]=='B-LOC':\n",
        "      for h in range(1,len(conll2003_test[i])-j):\n",
        "        if conll2003_test[i][j+h][1]!='I-LOC':\n",
        "          true_LOClist.append((i,j,j+h-1))\n",
        "          #print((i,j,j+h-1))\n",
        "          break\n",
        "        else:\n",
        "          if  conll2003_test[i][j+h][1]=='I-LOC' and h==len(conll2003_test[i])-j-1: # if 'I-LOC' in the end\n",
        "            true_LOClist.append((i,j,j+h))"
      ],
      "execution_count": 208,
      "outputs": []
    },
    {
      "cell_type": "code",
      "metadata": {
        "colab": {
          "base_uri": "https://localhost:8080/"
        },
        "id": "p9fl8KHfGmAP",
        "outputId": "014832fe-2da4-4097-abc0-61946fc84a5b"
      },
      "source": [
        "evla(mylist,true_PERlist) #table_1,remove word features"
      ],
      "execution_count": 209,
      "outputs": [
        {
          "output_type": "execute_result",
          "data": {
            "text/plain": [
              "{'F1_score': 0.8067018305926157,\n",
              " 'precison': 0.8094645080946451,\n",
              " 'recall': 0.8039579468150897}"
            ]
          },
          "metadata": {
            "tags": []
          },
          "execution_count": 209
        }
      ]
    },
    {
      "cell_type": "code",
      "metadata": {
        "colab": {
          "base_uri": "https://localhost:8080/"
        },
        "id": "gR-67TjrGmDm",
        "outputId": "0b6617be-2e97-4e32-a760-d4ce2ff0bcaf"
      },
      "source": [
        "evla(myLOClist,true_LOClist) #table_1,remove word featues"
      ],
      "execution_count": 210,
      "outputs": [
        {
          "output_type": "execute_result",
          "data": {
            "text/plain": [
              "{'F1_score': 0.8190193164933135,\n",
              " 'precison': 0.8120212139068945,\n",
              " 'recall': 0.8261390887290168}"
            ]
          },
          "metadata": {
            "tags": []
          },
          "execution_count": 210
        }
      ]
    },
    {
      "cell_type": "markdown",
      "metadata": {
        "id": "HeVbvW7EIF87"
      },
      "source": [
        "**Remove prefix/suffix**"
      ]
    },
    {
      "cell_type": "code",
      "metadata": {
        "id": "1-wqCbPgHyev"
      },
      "source": [
        "def feat_sent(sent):\n",
        "    sent_feats = []\n",
        "    for i in range(len(sent)):\n",
        "        feats = {}\n",
        "        # word features\n",
        "        feats.update(feat_w(sent, i, 0))\n",
        "        feats.update(feat_w(sent, i, 1))\n",
        "        feats.update(feat_w(sent, i, -1))\n",
        "\n",
        "        # word shape\n",
        "        feats.update( feat_wordshape(sent, i) )\n",
        "        feats.update( feat_wordshape_short(sent, i) )\n",
        "        sent_feats.append(feats)\n",
        "\n",
        "    return sent_feats"
      ],
      "execution_count": 211,
      "outputs": []
    },
    {
      "cell_type": "code",
      "metadata": {
        "colab": {
          "base_uri": "https://localhost:8080/"
        },
        "id": "-G2Jx6unHygm",
        "outputId": "a7352761-c6a5-4105-b02b-ba07452316c1"
      },
      "source": [
        "def label_sent(sent):\n",
        "    return [ token[1] for token in sent ]\n",
        "    \n",
        "train_X = [ feat_sent(sent) for sent in conll2003_train]\n",
        "train_Y = [ label_sent(sent) for sent in conll2003_train]\n",
        "\n",
        "test_X = [ feat_sent(sent) for sent in conll2003_test ]\n",
        "test_Y = [ label_sent(sent) for sent in conll2003_test ]\n",
        "\n",
        "\n",
        "crf = sklearn_crfsuite.CRF()\n",
        "\n",
        "# train a CRF model on the training set\n",
        "crf.fit(train_X, train_Y)"
      ],
      "execution_count": 212,
      "outputs": [
        {
          "output_type": "stream",
          "text": [
            "/usr/local/lib/python3.7/dist-packages/sklearn/base.py:213: FutureWarning: From version 0.24, get_params will raise an AttributeError if a parameter cannot be retrieved as an instance attribute. Previously it would return None.\n",
            "  FutureWarning)\n"
          ],
          "name": "stderr"
        },
        {
          "output_type": "execute_result",
          "data": {
            "text/plain": [
              "CRF(keep_tempfiles=None)"
            ]
          },
          "metadata": {
            "tags": []
          },
          "execution_count": 212
        }
      ]
    },
    {
      "cell_type": "code",
      "metadata": {
        "id": "i0aM5YDJHyiv"
      },
      "source": [
        "test_Y_pred = crf.predict(test_X)"
      ],
      "execution_count": 214,
      "outputs": []
    },
    {
      "cell_type": "code",
      "metadata": {
        "id": "n9B99sPQHyk4"
      },
      "source": [
        "mylist=[]\n",
        "for i in range(0,len(test_Y_pred)):\n",
        "  if test_Y_pred[i][len(test_Y_pred[i])-1]=='B-PER':\n",
        "    mylist.append((i,len(test_Y_pred[i])-1,len(test_Y_pred[i])-1))\n",
        "  for j in range(0,len(test_Y_pred[i])):\n",
        "    if test_Y_pred[i][j]=='B-PER':\n",
        "      for h in range(1,len(test_Y_pred[i])-j):\n",
        "          if test_Y_pred[i][j+h]!='I-PER':\n",
        "              mylist.append((i,j,j+h-1))\n",
        "              break\n",
        "          else:\n",
        "            if  test_Y_pred[i][j+h]=='I-PER' and h==len(test_Y_pred[i])-j-1:\n",
        "              mylist.append((i,j,j+h))"
      ],
      "execution_count": 215,
      "outputs": []
    },
    {
      "cell_type": "code",
      "metadata": {
        "id": "S2sdjozdHymR"
      },
      "source": [
        "myLOClist=[]\n",
        "for i in range(0,len(test_Y_pred)):\n",
        "  if test_Y_pred[i][len(test_Y_pred[i])-1]=='B-LOC':\n",
        "    myLOClist.append((i,len(test_Y_pred[i])-1,len(test_Y_pred[i])-1))\n",
        "  for j in range(0,len(test_Y_pred[i])):\n",
        "    if test_Y_pred[i][j]=='B-LOC':\n",
        "      for h in range(1,len(test_Y_pred[i])-j):\n",
        "          if test_Y_pred[i][j+h]!='I-LOC':\n",
        "              myLOClist.append((i,j,j+h-1))\n",
        "              break\n",
        "          else:\n",
        "            if  test_Y_pred[i][j+h]=='I-LOC' and h==len(test_Y_pred[i])-j-1:\n",
        "              myLOClist.append((i,j,j+h))"
      ],
      "execution_count": 216,
      "outputs": []
    },
    {
      "cell_type": "code",
      "metadata": {
        "id": "tU4te2Y5HyqZ"
      },
      "source": [
        "true_PERlist=[]\n",
        "\n",
        "for i in range(0,len(conll2003_test)):\n",
        "  if conll2003_test[i][len(conll2003_test[i])-1][1]=='B-PER':\n",
        "    true_PERlist.append((i,len(conll2003_test[i])-1,len(conll2003_test[i])-1))\n",
        "  for j in range(0,len(conll2003_test[i])):\n",
        "    if conll2003_test[i][j][1]=='B-PER':\n",
        "      for h in range(1,len(conll2003_test[i])-j):\n",
        "        if conll2003_test[i][j+h][1]!='I-PER':\n",
        "          true_PERlist.append((i,j,j+h-1))\n",
        "          #print((i,j,j+h-1))\n",
        "          break\n",
        "        else:\n",
        "          if  conll2003_test[i][j+h][1]=='I-PER' and h==len(conll2003_test[i])-j-1: # if 'I-PER' in the end\n",
        "            true_PERlist.append((i,j,j+h))"
      ],
      "execution_count": 217,
      "outputs": []
    },
    {
      "cell_type": "code",
      "metadata": {
        "id": "9ZWaPoYRHyuH"
      },
      "source": [
        "true_LOClist=[]\n",
        "for i in range(0,len(conll2003_test)):\n",
        "  if conll2003_test[i][len(conll2003_test[i])-1][1]=='B-LOC':\n",
        "    true_LOClist.append((i,len(conll2003_test[i])-1,len(conll2003_test[i])-1))\n",
        "  for j in range(0,len(conll2003_test[i])):\n",
        "    if conll2003_test[i][j][1]=='B-LOC':\n",
        "      for h in range(1,len(conll2003_test[i])-j):\n",
        "        if conll2003_test[i][j+h][1]!='I-LOC':\n",
        "          true_LOClist.append((i,j,j+h-1))\n",
        "          #print((i,j,j+h-1))\n",
        "          break\n",
        "        else:\n",
        "          if  conll2003_test[i][j+h][1]=='I-LOC' and h==len(conll2003_test[i])-j-1: # if 'I-LOC' in the end\n",
        "            true_LOClist.append((i,j,j+h))"
      ],
      "execution_count": 218,
      "outputs": []
    },
    {
      "cell_type": "code",
      "metadata": {
        "colab": {
          "base_uri": "https://localhost:8080/"
        },
        "id": "dKWPzvrWHyxm",
        "outputId": "be35b425-1d76-44f5-a87d-fa4fec0e109d"
      },
      "source": [
        "evla(mylist,true_PERlist) #table_1,remove prefix/suffix"
      ],
      "execution_count": 219,
      "outputs": [
        {
          "output_type": "execute_result",
          "data": {
            "text/plain": [
              "{'F1_score': 0.8190709046454767,\n",
              " 'precison': 0.8096676737160121,\n",
              " 'recall': 0.8286951144094001}"
            ]
          },
          "metadata": {
            "tags": []
          },
          "execution_count": 219
        }
      ]
    },
    {
      "cell_type": "code",
      "metadata": {
        "colab": {
          "base_uri": "https://localhost:8080/"
        },
        "id": "XG6JvEEePKyZ",
        "outputId": "0b559492-6ecd-4dfc-a930-7c00527d6904"
      },
      "source": [
        "evla(myLOClist,true_LOClist) #table_1,remove prefix/suffix"
      ],
      "execution_count": 220,
      "outputs": [
        {
          "output_type": "execute_result",
          "data": {
            "text/plain": [
              "{'F1_score': 0.7977563103770645,\n",
              " 'precison': 0.8306294613887086,\n",
              " 'recall': 0.7673860911270983}"
            ]
          },
          "metadata": {
            "tags": []
          },
          "execution_count": 220
        }
      ]
    },
    {
      "cell_type": "markdown",
      "metadata": {
        "id": "AChfLIYDQFbx"
      },
      "source": [
        "**Remove shape**"
      ]
    },
    {
      "cell_type": "code",
      "metadata": {
        "id": "hLFPDfPAP3aW"
      },
      "source": [
        "def feat_sent(sent):\n",
        "    sent_feats = []\n",
        "    for i in range(len(sent)):\n",
        "        feats = {}\n",
        "        # word features\n",
        "        feats.update(feat_w(sent, i, 0))\n",
        "        feats.update(feat_w(sent, i, 1))\n",
        "        feats.update(feat_w(sent, i, -1))\n",
        "\n",
        "        # prefix and suffix\n",
        "        feats.update( feat_prefix(sent, i, 3) )\n",
        "        feats.update( feat_prefix(sent, i, 4) )\n",
        "        feats.update( feat_prefix(sent, i, 5) )\n",
        "        feats.update( feat_suffix(sent, i, 3) )\n",
        "        feats.update( feat_suffix(sent, i, 4) )\n",
        "        feats.update( feat_suffix(sent, i, 5) )\n",
        "        sent_feats.append(feats)\n",
        "\n",
        "    return sent_feats"
      ],
      "execution_count": 221,
      "outputs": []
    },
    {
      "cell_type": "code",
      "metadata": {
        "colab": {
          "base_uri": "https://localhost:8080/"
        },
        "id": "dXuOSBm1P3eQ",
        "outputId": "b9441a71-66c4-4ba2-bf25-00842b12d041"
      },
      "source": [
        "def label_sent(sent):\n",
        "    return [ token[1] for token in sent ]\n",
        "    \n",
        "train_X = [ feat_sent(sent) for sent in conll2003_train]\n",
        "train_Y = [ label_sent(sent) for sent in conll2003_train]\n",
        "\n",
        "test_X = [ feat_sent(sent) for sent in conll2003_test ]\n",
        "test_Y = [ label_sent(sent) for sent in conll2003_test ]\n",
        "\n",
        "\n",
        "crf = sklearn_crfsuite.CRF()\n",
        "\n",
        "# train a CRF model on the training set\n",
        "crf.fit(train_X, train_Y)\n"
      ],
      "execution_count": 222,
      "outputs": [
        {
          "output_type": "stream",
          "text": [
            "/usr/local/lib/python3.7/dist-packages/sklearn/base.py:213: FutureWarning: From version 0.24, get_params will raise an AttributeError if a parameter cannot be retrieved as an instance attribute. Previously it would return None.\n",
            "  FutureWarning)\n"
          ],
          "name": "stderr"
        },
        {
          "output_type": "execute_result",
          "data": {
            "text/plain": [
              "CRF(keep_tempfiles=None)"
            ]
          },
          "metadata": {
            "tags": []
          },
          "execution_count": 222
        }
      ]
    },
    {
      "cell_type": "code",
      "metadata": {
        "id": "bCHuTIF-RzIe"
      },
      "source": [
        "test_Y_pred = crf.predict(test_X)"
      ],
      "execution_count": 223,
      "outputs": []
    },
    {
      "cell_type": "code",
      "metadata": {
        "id": "64x-7J7ARzK1"
      },
      "source": [
        "mylist=[]\n",
        "for i in range(0,len(test_Y_pred)):\n",
        "  if test_Y_pred[i][len(test_Y_pred[i])-1]=='B-PER':\n",
        "    mylist.append((i,len(test_Y_pred[i])-1,len(test_Y_pred[i])-1))\n",
        "  for j in range(0,len(test_Y_pred[i])):\n",
        "    if test_Y_pred[i][j]=='B-PER':\n",
        "      for h in range(1,len(test_Y_pred[i])-j):\n",
        "          if test_Y_pred[i][j+h]!='I-PER':\n",
        "              mylist.append((i,j,j+h-1))\n",
        "              break\n",
        "          else:\n",
        "            if  test_Y_pred[i][j+h]=='I-PER' and h==len(test_Y_pred[i])-j-1:\n",
        "              mylist.append((i,j,j+h))"
      ],
      "execution_count": 224,
      "outputs": []
    },
    {
      "cell_type": "code",
      "metadata": {
        "id": "laAYL72SRzNT"
      },
      "source": [
        "myLOClist=[]\n",
        "for i in range(0,len(test_Y_pred)):\n",
        "  if test_Y_pred[i][len(test_Y_pred[i])-1]=='B-LOC':\n",
        "    myLOClist.append((i,len(test_Y_pred[i])-1,len(test_Y_pred[i])-1))\n",
        "  for j in range(0,len(test_Y_pred[i])):\n",
        "    if test_Y_pred[i][j]=='B-LOC':\n",
        "      for h in range(1,len(test_Y_pred[i])-j):\n",
        "          if test_Y_pred[i][j+h]!='I-LOC':\n",
        "              myLOClist.append((i,j,j+h-1))\n",
        "              break\n",
        "          else:\n",
        "            if  test_Y_pred[i][j+h]=='I-LOC' and h==len(test_Y_pred[i])-j-1:\n",
        "              myLOClist.append((i,j,j+h))"
      ],
      "execution_count": 225,
      "outputs": []
    },
    {
      "cell_type": "code",
      "metadata": {
        "id": "sJtRGivERzQn"
      },
      "source": [
        "true_PERlist=[]\n",
        "\n",
        "for i in range(0,len(conll2003_test)):\n",
        "  if conll2003_test[i][len(conll2003_test[i])-1][1]=='B-PER':\n",
        "    true_PERlist.append((i,len(conll2003_test[i])-1,len(conll2003_test[i])-1))\n",
        "  for j in range(0,len(conll2003_test[i])):\n",
        "    if conll2003_test[i][j][1]=='B-PER':\n",
        "      for h in range(1,len(conll2003_test[i])-j):\n",
        "        if conll2003_test[i][j+h][1]!='I-PER':\n",
        "          true_PERlist.append((i,j,j+h-1))\n",
        "          #print((i,j,j+h-1))\n",
        "          break\n",
        "        else:\n",
        "          if  conll2003_test[i][j+h][1]=='I-PER' and h==len(conll2003_test[i])-j-1: # if 'I-PER' in the end\n",
        "            true_PERlist.append((i,j,j+h))"
      ],
      "execution_count": 226,
      "outputs": []
    },
    {
      "cell_type": "code",
      "metadata": {
        "id": "qekXZSIwR74m"
      },
      "source": [
        "true_LOClist=[]\n",
        "for i in range(0,len(conll2003_test)):\n",
        "  if conll2003_test[i][len(conll2003_test[i])-1][1]=='B-LOC':\n",
        "    true_LOClist.append((i,len(conll2003_test[i])-1,len(conll2003_test[i])-1))\n",
        "  for j in range(0,len(conll2003_test[i])):\n",
        "    if conll2003_test[i][j][1]=='B-LOC':\n",
        "      for h in range(1,len(conll2003_test[i])-j):\n",
        "        if conll2003_test[i][j+h][1]!='I-LOC':\n",
        "          true_LOClist.append((i,j,j+h-1))\n",
        "          #print((i,j,j+h-1))\n",
        "          break\n",
        "        else:\n",
        "          if  conll2003_test[i][j+h][1]=='I-LOC' and h==len(conll2003_test[i])-j-1: # if 'I-LOC' in the end\n",
        "            true_LOClist.append((i,j,j+h))"
      ],
      "execution_count": 227,
      "outputs": []
    },
    {
      "cell_type": "code",
      "metadata": {
        "colab": {
          "base_uri": "https://localhost:8080/"
        },
        "id": "Xgav0qvYR_Ul",
        "outputId": "f7e7fbd7-15bb-4398-db5b-cc5a1a4818ee"
      },
      "source": [
        "evla(mylist,true_PERlist) #table_1,remove shape"
      ],
      "execution_count": 228,
      "outputs": [
        {
          "output_type": "execute_result",
          "data": {
            "text/plain": [
              "{'F1_score': 0.7796495956873316,\n",
              " 'precison': 0.8564026646928201,\n",
              " 'recall': 0.7155225726654298}"
            ]
          },
          "metadata": {
            "tags": []
          },
          "execution_count": 228
        }
      ]
    },
    {
      "cell_type": "code",
      "metadata": {
        "colab": {
          "base_uri": "https://localhost:8080/"
        },
        "id": "ZJ0KY4NIR_Wq",
        "outputId": "5d796078-1638-4c63-a679-3eb37f78eeac"
      },
      "source": [
        "evla(myLOClist,true_LOClist) #table_1,remove shape"
      ],
      "execution_count": 229,
      "outputs": [
        {
          "output_type": "execute_result",
          "data": {
            "text/plain": [
              "{'F1_score': 0.8291118948380891,\n",
              " 'precison': 0.8911095796002757,\n",
              " 'recall': 0.7751798561151079}"
            ]
          },
          "metadata": {
            "tags": []
          },
          "execution_count": 229
        }
      ]
    },
    {
      "cell_type": "code",
      "metadata": {
        "id": "gbBwQCkcR_Yb"
      },
      "source": [
        ""
      ],
      "execution_count": null,
      "outputs": []
    },
    {
      "cell_type": "markdown",
      "metadata": {
        "id": "fv4ZWXOgUDmv"
      },
      "source": [
        "**Only word feature**"
      ]
    },
    {
      "cell_type": "code",
      "metadata": {
        "id": "EI2EsQuZR_bz"
      },
      "source": [
        "def feat_sent(sent):\n",
        "    sent_feats = []\n",
        "    for i in range(len(sent)):\n",
        "        feats = {}\n",
        "        # word features\n",
        "        feats.update(feat_w(sent, i, 0))\n",
        "        feats.update(feat_w(sent, i, 1))\n",
        "        feats.update(feat_w(sent, i, -1))\n",
        "        sent_feats.append(feats)\n",
        "\n",
        "    return sent_feats"
      ],
      "execution_count": 230,
      "outputs": []
    },
    {
      "cell_type": "code",
      "metadata": {
        "colab": {
          "base_uri": "https://localhost:8080/"
        },
        "id": "4QbIuhDrUJME",
        "outputId": "4f76a21a-7826-4702-80a0-eceb911b7f34"
      },
      "source": [
        "def label_sent(sent):\n",
        "    return [ token[1] for token in sent ]\n",
        "    \n",
        "train_X = [ feat_sent(sent) for sent in conll2003_train]\n",
        "train_Y = [ label_sent(sent) for sent in conll2003_train]\n",
        "\n",
        "test_X = [ feat_sent(sent) for sent in conll2003_test ]\n",
        "test_Y = [ label_sent(sent) for sent in conll2003_test ]\n",
        "\n",
        "import sklearn_crfsuite\n",
        "from sklearn_crfsuite import scorers\n",
        "from sklearn_crfsuite import metrics\n",
        "\n",
        "crf = sklearn_crfsuite.CRF()\n",
        "\n",
        "# train a CRF model on the training set\n",
        "crf.fit(train_X, train_Y)\n"
      ],
      "execution_count": 231,
      "outputs": [
        {
          "output_type": "stream",
          "text": [
            "/usr/local/lib/python3.7/dist-packages/sklearn/base.py:213: FutureWarning: From version 0.24, get_params will raise an AttributeError if a parameter cannot be retrieved as an instance attribute. Previously it would return None.\n",
            "  FutureWarning)\n"
          ],
          "name": "stderr"
        },
        {
          "output_type": "execute_result",
          "data": {
            "text/plain": [
              "CRF(keep_tempfiles=None)"
            ]
          },
          "metadata": {
            "tags": []
          },
          "execution_count": 231
        }
      ]
    },
    {
      "cell_type": "code",
      "metadata": {
        "id": "3Ih99mReUJOY"
      },
      "source": [
        "test_Y_pred = crf.predict(test_X)"
      ],
      "execution_count": 232,
      "outputs": []
    },
    {
      "cell_type": "code",
      "metadata": {
        "id": "0yAtMlnSUJTI"
      },
      "source": [
        "mylist=[]\n",
        "for i in range(0,len(test_Y_pred)):\n",
        "  if test_Y_pred[i][len(test_Y_pred[i])-1]=='B-PER':\n",
        "    mylist.append((i,len(test_Y_pred[i])-1,len(test_Y_pred[i])-1))\n",
        "  for j in range(0,len(test_Y_pred[i])):\n",
        "    if test_Y_pred[i][j]=='B-PER':\n",
        "      for h in range(1,len(test_Y_pred[i])-j):\n",
        "          if test_Y_pred[i][j+h]!='I-PER':\n",
        "              mylist.append((i,j,j+h-1))\n",
        "              break\n",
        "          else:\n",
        "            if  test_Y_pred[i][j+h]=='I-PER' and h==len(test_Y_pred[i])-j-1:\n",
        "              mylist.append((i,j,j+h))"
      ],
      "execution_count": 233,
      "outputs": []
    },
    {
      "cell_type": "code",
      "metadata": {
        "id": "Ru86dGZ6UJWk"
      },
      "source": [
        "myLOClist=[]\n",
        "for i in range(0,len(test_Y_pred)):\n",
        "  if test_Y_pred[i][len(test_Y_pred[i])-1]=='B-LOC':\n",
        "    myLOClist.append((i,len(test_Y_pred[i])-1,len(test_Y_pred[i])-1))\n",
        "  for j in range(0,len(test_Y_pred[i])):\n",
        "    if test_Y_pred[i][j]=='B-LOC':\n",
        "      for h in range(1,len(test_Y_pred[i])-j):\n",
        "          if test_Y_pred[i][j+h]!='I-LOC':\n",
        "              myLOClist.append((i,j,j+h-1))\n",
        "              break\n",
        "          else:\n",
        "            if  test_Y_pred[i][j+h]=='I-LOC' and h==len(test_Y_pred[i])-j-1:\n",
        "              myLOClist.append((i,j,j+h))"
      ],
      "execution_count": 234,
      "outputs": []
    },
    {
      "cell_type": "code",
      "metadata": {
        "id": "RxgrhsGdUgQu"
      },
      "source": [
        "true_PERlist=[]\n",
        "\n",
        "for i in range(0,len(conll2003_test)):\n",
        "  if conll2003_test[i][len(conll2003_test[i])-1][1]=='B-PER':\n",
        "    true_PERlist.append((i,len(conll2003_test[i])-1,len(conll2003_test[i])-1))\n",
        "  for j in range(0,len(conll2003_test[i])):\n",
        "    if conll2003_test[i][j][1]=='B-PER':\n",
        "      for h in range(1,len(conll2003_test[i])-j):\n",
        "        if conll2003_test[i][j+h][1]!='I-PER':\n",
        "          true_PERlist.append((i,j,j+h-1))\n",
        "          #print((i,j,j+h-1))\n",
        "          break\n",
        "        else:\n",
        "          if  conll2003_test[i][j+h][1]=='I-PER' and h==len(conll2003_test[i])-j-1: # if 'I-PER' in the end\n",
        "            true_PERlist.append((i,j,j+h))"
      ],
      "execution_count": 235,
      "outputs": []
    },
    {
      "cell_type": "code",
      "metadata": {
        "id": "M8xK-a4FUgSc"
      },
      "source": [
        "true_LOClist=[]\n",
        "for i in range(0,len(conll2003_test)):\n",
        "  if conll2003_test[i][len(conll2003_test[i])-1][1]=='B-LOC':\n",
        "    true_LOClist.append((i,len(conll2003_test[i])-1,len(conll2003_test[i])-1))\n",
        "  for j in range(0,len(conll2003_test[i])):\n",
        "    if conll2003_test[i][j][1]=='B-LOC':\n",
        "      for h in range(1,len(conll2003_test[i])-j):\n",
        "        if conll2003_test[i][j+h][1]!='I-LOC':\n",
        "          true_LOClist.append((i,j,j+h-1))\n",
        "          #print((i,j,j+h-1))\n",
        "          break\n",
        "        else:\n",
        "          if  conll2003_test[i][j+h][1]=='I-LOC' and h==len(conll2003_test[i])-j-1: # if 'I-LOC' in the end\n",
        "            true_LOClist.append((i,j,j+h))"
      ],
      "execution_count": 236,
      "outputs": []
    },
    {
      "cell_type": "code",
      "metadata": {
        "colab": {
          "base_uri": "https://localhost:8080/"
        },
        "id": "DlVSo7zgUgUV",
        "outputId": "49b6e2d6-f980-41b8-c51f-fbd0ce956ed2"
      },
      "source": [
        "evla(mylist,true_PERlist) #table_1,word featue only"
      ],
      "execution_count": 237,
      "outputs": [
        {
          "output_type": "execute_result",
          "data": {
            "text/plain": [
              "{'F1_score': 0.6801195814648731,\n",
              " 'precison': 0.8593012275731823,\n",
              " 'recall': 0.5627705627705628}"
            ]
          },
          "metadata": {
            "tags": []
          },
          "execution_count": 237
        }
      ]
    },
    {
      "cell_type": "code",
      "metadata": {
        "colab": {
          "base_uri": "https://localhost:8080/"
        },
        "id": "3n4q0ffWUgWe",
        "outputId": "61943752-6d37-42c0-c24c-93831914e1c0"
      },
      "source": [
        "evla(myLOClist,true_LOClist) #table_1,word feature only"
      ],
      "execution_count": 238,
      "outputs": [
        {
          "output_type": "execute_result",
          "data": {
            "text/plain": [
              "{'F1_score': 0.7303903684786576,\n",
              " 'precison': 0.9328984156570364,\n",
              " 'recall': 0.6001199040767387}"
            ]
          },
          "metadata": {
            "tags": []
          },
          "execution_count": 238
        }
      ]
    },
    {
      "cell_type": "code",
      "metadata": {
        "id": "CkdoMV8AUgZs"
      },
      "source": [
        ""
      ],
      "execution_count": null,
      "outputs": []
    },
    {
      "cell_type": "markdown",
      "metadata": {
        "id": "oFONGKATVaz_"
      },
      "source": [
        "**prefix/suffix only**"
      ]
    },
    {
      "cell_type": "code",
      "metadata": {
        "id": "s-E3mxUgVg4R"
      },
      "source": [
        "def feat_sent(sent):\n",
        "    sent_feats = []\n",
        "    for i in range(len(sent)):\n",
        "        feats = {}\n",
        "\n",
        "        # prefix and suffix\n",
        "        feats.update( feat_prefix(sent, i, 3) )\n",
        "        feats.update( feat_prefix(sent, i, 4) )\n",
        "        feats.update( feat_prefix(sent, i, 5) )\n",
        "        feats.update( feat_suffix(sent, i, 3) )\n",
        "        feats.update( feat_suffix(sent, i, 4) )\n",
        "        feats.update( feat_suffix(sent, i, 5) )\n",
        "        sent_feats.append(feats)\n",
        "\n",
        "    return sent_feats"
      ],
      "execution_count": 239,
      "outputs": []
    },
    {
      "cell_type": "code",
      "metadata": {
        "colab": {
          "base_uri": "https://localhost:8080/"
        },
        "id": "efYUitVYVg7z",
        "outputId": "e9c82a69-13b6-4b0d-b77a-9f0f647637e9"
      },
      "source": [
        "def label_sent(sent):\n",
        "    return [ token[1] for token in sent ]\n",
        "    \n",
        "train_X = [ feat_sent(sent) for sent in conll2003_train]\n",
        "train_Y = [ label_sent(sent) for sent in conll2003_train]\n",
        "\n",
        "test_X = [ feat_sent(sent) for sent in conll2003_test ]\n",
        "test_Y = [ label_sent(sent) for sent in conll2003_test ]\n",
        "\n",
        "import sklearn_crfsuite\n",
        "from sklearn_crfsuite import scorers\n",
        "from sklearn_crfsuite import metrics\n",
        "\n",
        "crf = sklearn_crfsuite.CRF()\n",
        "\n",
        "# train a CRF model on the training set\n",
        "crf.fit(train_X, train_Y)"
      ],
      "execution_count": 240,
      "outputs": [
        {
          "output_type": "stream",
          "text": [
            "/usr/local/lib/python3.7/dist-packages/sklearn/base.py:213: FutureWarning: From version 0.24, get_params will raise an AttributeError if a parameter cannot be retrieved as an instance attribute. Previously it would return None.\n",
            "  FutureWarning)\n"
          ],
          "name": "stderr"
        },
        {
          "output_type": "execute_result",
          "data": {
            "text/plain": [
              "CRF(keep_tempfiles=None)"
            ]
          },
          "metadata": {
            "tags": []
          },
          "execution_count": 240
        }
      ]
    },
    {
      "cell_type": "code",
      "metadata": {
        "id": "iWAYduwVVwON"
      },
      "source": [
        "test_Y_pred = crf.predict(test_X)"
      ],
      "execution_count": 241,
      "outputs": []
    },
    {
      "cell_type": "code",
      "metadata": {
        "id": "yyhBm0SQVwQB"
      },
      "source": [
        "mylist=[]\n",
        "for i in range(0,len(test_Y_pred)):\n",
        "  if test_Y_pred[i][len(test_Y_pred[i])-1]=='B-PER':\n",
        "    mylist.append((i,len(test_Y_pred[i])-1,len(test_Y_pred[i])-1))\n",
        "  for j in range(0,len(test_Y_pred[i])):\n",
        "    if test_Y_pred[i][j]=='B-PER':\n",
        "      for h in range(1,len(test_Y_pred[i])-j):\n",
        "          if test_Y_pred[i][j+h]!='I-PER':\n",
        "              mylist.append((i,j,j+h-1))\n",
        "              break\n",
        "          else:\n",
        "            if  test_Y_pred[i][j+h]=='I-PER' and h==len(test_Y_pred[i])-j-1:\n",
        "              mylist.append((i,j,j+h))"
      ],
      "execution_count": 242,
      "outputs": []
    },
    {
      "cell_type": "code",
      "metadata": {
        "id": "FwZqUO0eVwSX"
      },
      "source": [
        "myLOClist=[]\n",
        "for i in range(0,len(test_Y_pred)):\n",
        "  if test_Y_pred[i][len(test_Y_pred[i])-1]=='B-LOC':\n",
        "    myLOClist.append((i,len(test_Y_pred[i])-1,len(test_Y_pred[i])-1))\n",
        "  for j in range(0,len(test_Y_pred[i])):\n",
        "    if test_Y_pred[i][j]=='B-LOC':\n",
        "      for h in range(1,len(test_Y_pred[i])-j):\n",
        "          if test_Y_pred[i][j+h]!='I-LOC':\n",
        "              myLOClist.append((i,j,j+h-1))\n",
        "              break\n",
        "          else:\n",
        "            if  test_Y_pred[i][j+h]=='I-LOC' and h==len(test_Y_pred[i])-j-1:\n",
        "              myLOClist.append((i,j,j+h))"
      ],
      "execution_count": 243,
      "outputs": []
    },
    {
      "cell_type": "code",
      "metadata": {
        "id": "942_-eKuVwWC"
      },
      "source": [
        "true_PERlist=[]\n",
        "\n",
        "for i in range(0,len(conll2003_test)):\n",
        "  if conll2003_test[i][len(conll2003_test[i])-1][1]=='B-PER':\n",
        "    true_PERlist.append((i,len(conll2003_test[i])-1,len(conll2003_test[i])-1))\n",
        "  for j in range(0,len(conll2003_test[i])):\n",
        "    if conll2003_test[i][j][1]=='B-PER':\n",
        "      for h in range(1,len(conll2003_test[i])-j):\n",
        "        if conll2003_test[i][j+h][1]!='I-PER':\n",
        "          true_PERlist.append((i,j,j+h-1))\n",
        "          #print((i,j,j+h-1))\n",
        "          break\n",
        "        else:\n",
        "          if  conll2003_test[i][j+h][1]=='I-PER' and h==len(conll2003_test[i])-j-1: # if 'I-PER' in the end\n",
        "            true_PERlist.append((i,j,j+h))"
      ],
      "execution_count": 244,
      "outputs": []
    },
    {
      "cell_type": "code",
      "metadata": {
        "id": "2WJg9wC0V4DV"
      },
      "source": [
        "true_LOClist=[]\n",
        "for i in range(0,len(conll2003_test)):\n",
        "  if conll2003_test[i][len(conll2003_test[i])-1][1]=='B-LOC':\n",
        "    true_LOClist.append((i,len(conll2003_test[i])-1,len(conll2003_test[i])-1))\n",
        "  for j in range(0,len(conll2003_test[i])):\n",
        "    if conll2003_test[i][j][1]=='B-LOC':\n",
        "      for h in range(1,len(conll2003_test[i])-j):\n",
        "        if conll2003_test[i][j+h][1]!='I-LOC':\n",
        "          true_LOClist.append((i,j,j+h-1))\n",
        "          #print((i,j,j+h-1))\n",
        "          break\n",
        "        else:\n",
        "          if  conll2003_test[i][j+h][1]=='I-LOC' and h==len(conll2003_test[i])-j-1: # if 'I-LOC' in the end\n",
        "            true_LOClist.append((i,j,j+h))"
      ],
      "execution_count": 245,
      "outputs": []
    },
    {
      "cell_type": "code",
      "metadata": {
        "colab": {
          "base_uri": "https://localhost:8080/"
        },
        "id": "mUwCdc13V4E5",
        "outputId": "35acb883-fe40-4b35-fd55-3083abd40bc8"
      },
      "source": [
        "evla(mylist,true_PERlist) #table_1,prefix/suffix featue only"
      ],
      "execution_count": 246,
      "outputs": [
        {
          "output_type": "execute_result",
          "data": {
            "text/plain": [
              "{'F1_score': 0.7177033492822966,\n",
              " 'precison': 0.8021390374331551,\n",
              " 'recall': 0.6493506493506493}"
            ]
          },
          "metadata": {
            "tags": []
          },
          "execution_count": 246
        }
      ]
    },
    {
      "cell_type": "code",
      "metadata": {
        "colab": {
          "base_uri": "https://localhost:8080/"
        },
        "id": "PNOuazaRV4HF",
        "outputId": "6db08c65-b2a1-4d77-9c17-63b6ed3ee4e3"
      },
      "source": [
        "evla(myLOClist,true_LOClist) #table_1,prefix/suffix feature only"
      ],
      "execution_count": 247,
      "outputs": [
        {
          "output_type": "execute_result",
          "data": {
            "text/plain": [
              "{'F1_score': 0.8153846153846154,\n",
              " 'precison': 0.8375474083438685,\n",
              " 'recall': 0.7943645083932853}"
            ]
          },
          "metadata": {
            "tags": []
          },
          "execution_count": 247
        }
      ]
    },
    {
      "cell_type": "code",
      "metadata": {
        "id": "goLEnLENV4Is"
      },
      "source": [
        ""
      ],
      "execution_count": null,
      "outputs": []
    },
    {
      "cell_type": "markdown",
      "metadata": {
        "id": "Orbqoe0tZtb9"
      },
      "source": [
        "**Shape only**"
      ]
    },
    {
      "cell_type": "code",
      "metadata": {
        "id": "vFaEj_PFV4MK"
      },
      "source": [
        "def feat_sent(sent):\n",
        "    sent_feats = []\n",
        "    for i in range(len(sent)):\n",
        "        feats = {}\n",
        "        # word shape\n",
        "        feats.update( feat_wordshape(sent, i) )\n",
        "        feats.update( feat_wordshape_short(sent, i) )\n",
        "        sent_feats.append(feats)\n",
        "\n",
        "    return sent_feats"
      ],
      "execution_count": 248,
      "outputs": []
    },
    {
      "cell_type": "code",
      "metadata": {
        "colab": {
          "base_uri": "https://localhost:8080/"
        },
        "id": "f-IlGRB-aEUy",
        "outputId": "ccbcfc8c-2a03-482a-e6f2-41fc348408b9"
      },
      "source": [
        "def label_sent(sent):\n",
        "    return [ token[1] for token in sent ]\n",
        "    \n",
        "train_X = [ feat_sent(sent) for sent in conll2003_train]\n",
        "train_Y = [ label_sent(sent) for sent in conll2003_train]\n",
        "\n",
        "test_X = [ feat_sent(sent) for sent in conll2003_test ]\n",
        "test_Y = [ label_sent(sent) for sent in conll2003_test ]\n",
        "\n",
        "\n",
        "crf = sklearn_crfsuite.CRF()\n",
        "\n",
        "# train a CRF model on the training set\n",
        "crf.fit(train_X, train_Y)"
      ],
      "execution_count": 249,
      "outputs": [
        {
          "output_type": "stream",
          "text": [
            "/usr/local/lib/python3.7/dist-packages/sklearn/base.py:213: FutureWarning: From version 0.24, get_params will raise an AttributeError if a parameter cannot be retrieved as an instance attribute. Previously it would return None.\n",
            "  FutureWarning)\n"
          ],
          "name": "stderr"
        },
        {
          "output_type": "execute_result",
          "data": {
            "text/plain": [
              "CRF(keep_tempfiles=None)"
            ]
          },
          "metadata": {
            "tags": []
          },
          "execution_count": 249
        }
      ]
    },
    {
      "cell_type": "code",
      "metadata": {
        "id": "F_2gkmO9aIQF"
      },
      "source": [
        "test_Y_pred = crf.predict(test_X)"
      ],
      "execution_count": 250,
      "outputs": []
    },
    {
      "cell_type": "code",
      "metadata": {
        "id": "3UfxzudFaEWw"
      },
      "source": [
        "mylist=[]\n",
        "for i in range(0,len(test_Y_pred)):\n",
        "  if test_Y_pred[i][len(test_Y_pred[i])-1]=='B-PER':\n",
        "    mylist.append((i,len(test_Y_pred[i])-1,len(test_Y_pred[i])-1))\n",
        "  for j in range(0,len(test_Y_pred[i])):\n",
        "    if test_Y_pred[i][j]=='B-PER':\n",
        "      for h in range(1,len(test_Y_pred[i])-j):\n",
        "          if test_Y_pred[i][j+h]!='I-PER':\n",
        "              mylist.append((i,j,j+h-1))\n",
        "              break\n",
        "          else:\n",
        "            if  test_Y_pred[i][j+h]=='I-PER' and h==len(test_Y_pred[i])-j-1:\n",
        "              mylist.append((i,j,j+h))"
      ],
      "execution_count": 251,
      "outputs": []
    },
    {
      "cell_type": "code",
      "metadata": {
        "id": "mh0khKLRaEYu"
      },
      "source": [
        "myLOClist=[]\n",
        "for i in range(0,len(test_Y_pred)):\n",
        "  if test_Y_pred[i][len(test_Y_pred[i])-1]=='B-LOC':\n",
        "    myLOClist.append((i,len(test_Y_pred[i])-1,len(test_Y_pred[i])-1))\n",
        "  for j in range(0,len(test_Y_pred[i])):\n",
        "    if test_Y_pred[i][j]=='B-LOC':\n",
        "      for h in range(1,len(test_Y_pred[i])-j):\n",
        "          if test_Y_pred[i][j+h]!='I-LOC':\n",
        "              myLOClist.append((i,j,j+h-1))\n",
        "              break\n",
        "          else:\n",
        "            if  test_Y_pred[i][j+h]=='I-LOC' and h==len(test_Y_pred[i])-j-1:\n",
        "              myLOClist.append((i,j,j+h))"
      ],
      "execution_count": 252,
      "outputs": []
    },
    {
      "cell_type": "code",
      "metadata": {
        "id": "fmDR3xJzaEcc"
      },
      "source": [
        "true_PERlist=[]\n",
        "\n",
        "for i in range(0,len(conll2003_test)):\n",
        "  if conll2003_test[i][len(conll2003_test[i])-1][1]=='B-PER':\n",
        "    true_PERlist.append((i,len(conll2003_test[i])-1,len(conll2003_test[i])-1))\n",
        "  for j in range(0,len(conll2003_test[i])):\n",
        "    if conll2003_test[i][j][1]=='B-PER':\n",
        "      for h in range(1,len(conll2003_test[i])-j):\n",
        "        if conll2003_test[i][j+h][1]!='I-PER':\n",
        "          true_PERlist.append((i,j,j+h-1))\n",
        "          #print((i,j,j+h-1))\n",
        "          break\n",
        "        else:\n",
        "          if  conll2003_test[i][j+h][1]=='I-PER' and h==len(conll2003_test[i])-j-1: # if 'I-PER' in the end\n",
        "            true_PERlist.append((i,j,j+h))"
      ],
      "execution_count": 253,
      "outputs": []
    },
    {
      "cell_type": "code",
      "metadata": {
        "id": "ma1ibWrKaQfy"
      },
      "source": [
        "true_LOClist=[]\n",
        "for i in range(0,len(conll2003_test)):\n",
        "  if conll2003_test[i][len(conll2003_test[i])-1][1]=='B-LOC':\n",
        "    true_LOClist.append((i,len(conll2003_test[i])-1,len(conll2003_test[i])-1))\n",
        "  for j in range(0,len(conll2003_test[i])):\n",
        "    if conll2003_test[i][j][1]=='B-LOC':\n",
        "      for h in range(1,len(conll2003_test[i])-j):\n",
        "        if conll2003_test[i][j+h][1]!='I-LOC':\n",
        "          true_LOClist.append((i,j,j+h-1))\n",
        "          #print((i,j,j+h-1))\n",
        "          break\n",
        "        else:\n",
        "          if  conll2003_test[i][j+h][1]=='I-LOC' and h==len(conll2003_test[i])-j-1: # if 'I-LOC' in the end\n",
        "            true_LOClist.append((i,j,j+h))"
      ],
      "execution_count": 254,
      "outputs": []
    },
    {
      "cell_type": "code",
      "metadata": {
        "colab": {
          "base_uri": "https://localhost:8080/"
        },
        "id": "2I9YjxzZaQiB",
        "outputId": "c3da1425-0ec5-40b4-8351-3fc90c88aeb3"
      },
      "source": [
        "evla(mylist,true_PERlist) #table_1,shape featue only"
      ],
      "execution_count": 255,
      "outputs": [
        {
          "output_type": "execute_result",
          "data": {
            "text/plain": [
              "{'F1_score': 0.5708978328173375,\n",
              " 'precison': 0.5716057036577805,\n",
              " 'recall': 0.5701917130488559}"
            ]
          },
          "metadata": {
            "tags": []
          },
          "execution_count": 255
        }
      ]
    },
    {
      "cell_type": "code",
      "metadata": {
        "colab": {
          "base_uri": "https://localhost:8080/"
        },
        "id": "-3sGFdccaQkA",
        "outputId": "bc682c6f-14af-4750-d6f0-4c921bf69a95"
      },
      "source": [
        "evla(myLOClist,true_LOClist) #table_1,shape feature only"
      ],
      "execution_count": 256,
      "outputs": [
        {
          "output_type": "execute_result",
          "data": {
            "text/plain": [
              "{'F1_score': 0.4319097502014504,\n",
              " 'precison': 0.39124087591240875,\n",
              " 'recall': 0.48201438848920863}"
            ]
          },
          "metadata": {
            "tags": []
          },
          "execution_count": 256
        }
      ]
    },
    {
      "cell_type": "code",
      "metadata": {
        "id": "CzU4DPSeaQn0"
      },
      "source": [
        ""
      ],
      "execution_count": null,
      "outputs": []
    },
    {
      "cell_type": "markdown",
      "metadata": {
        "id": "US40Y6sBmAh8"
      },
      "source": [
        "\n",
        "\n",
        "# 4 Compute values for table3"
      ]
    },
    {
      "cell_type": "markdown",
      "metadata": {
        "id": "XFckGJPcbcOw"
      },
      "source": [
        "**Table3**"
      ]
    },
    {
      "cell_type": "code",
      "metadata": {
        "id": "fQAadiTbbgJ8"
      },
      "source": [
        "# all features\n",
        "def feat_sent(sent):\n",
        "    sent_feats = []\n",
        "    for i in range(len(sent)):\n",
        "        feats = {}\n",
        "        # word features\n",
        "        feats.update(feat_w(sent, i, 0))\n",
        "        feats.update(feat_w(sent, i, 1))\n",
        "        feats.update(feat_w(sent, i, -1))\n",
        "\n",
        "        # prefix and suffix\n",
        "        feats.update( feat_prefix(sent, i, 3) )\n",
        "        feats.update( feat_prefix(sent, i, 4) )\n",
        "        feats.update( feat_prefix(sent, i, 5) )\n",
        "        feats.update( feat_suffix(sent, i, 3) )\n",
        "        feats.update( feat_suffix(sent, i, 4) )\n",
        "        feats.update( feat_suffix(sent, i, 5) )\n",
        "\n",
        "        # word shape\n",
        "        feats.update( feat_wordshape(sent, i) )\n",
        "        feats.update( feat_wordshape_short(sent, i) )\n",
        "        sent_feats.append(feats)\n",
        "\n",
        "    return sent_feats"
      ],
      "execution_count": null,
      "outputs": []
    },
    {
      "cell_type": "code",
      "metadata": {
        "colab": {
          "base_uri": "https://localhost:8080/"
        },
        "id": "c3ElB4u5bgOZ",
        "outputId": "e087fc4e-6da9-4ca7-dc27-c7a80f34fd0a"
      },
      "source": [
        "def label_sent(sent):\n",
        "    return [ token[1] for token in sent ]\n",
        "    \n",
        "train_X = [ feat_sent(sent) for sent in conll2003_train]\n",
        "train_Y = [ label_sent(sent) for sent in conll2003_train]\n",
        "\n",
        "test_X = [ feat_sent(sent) for sent in twitter_ner ]\n",
        "test_Y = [ label_sent(sent) for sent in twitter_ner ]\n",
        "\n",
        "import sklearn_crfsuite\n",
        "from sklearn_crfsuite import scorers\n",
        "from sklearn_crfsuite import metrics\n",
        "\n",
        "crf = sklearn_crfsuite.CRF()\n",
        "\n",
        "# train a CRF model on the training set\n",
        "crf.fit(train_X, train_Y)"
      ],
      "execution_count": null,
      "outputs": [
        {
          "output_type": "stream",
          "text": [
            "/usr/local/lib/python3.7/dist-packages/sklearn/base.py:213: FutureWarning: From version 0.24, get_params will raise an AttributeError if a parameter cannot be retrieved as an instance attribute. Previously it would return None.\n",
            "  FutureWarning)\n"
          ],
          "name": "stderr"
        },
        {
          "output_type": "execute_result",
          "data": {
            "text/plain": [
              "CRF(keep_tempfiles=None)"
            ]
          },
          "metadata": {
            "tags": []
          },
          "execution_count": 126
        }
      ]
    },
    {
      "cell_type": "code",
      "metadata": {
        "id": "PK182mpxb4RU"
      },
      "source": [
        "test_Y_pred = crf.predict(test_X)"
      ],
      "execution_count": null,
      "outputs": []
    },
    {
      "cell_type": "code",
      "metadata": {
        "id": "kiCJTD8Fb4Vr"
      },
      "source": [
        "mylist=[]\n",
        "for i in range(0,len(test_Y_pred)):\n",
        "  if test_Y_pred[i][len(test_Y_pred[i])-1]=='B-PER':\n",
        "    mylist.append((i,len(test_Y_pred[i])-1,len(test_Y_pred[i])-1))\n",
        "  for j in range(0,len(test_Y_pred[i])):\n",
        "    if test_Y_pred[i][j]=='B-PER':\n",
        "      for h in range(1,len(test_Y_pred[i])-j):\n",
        "          if test_Y_pred[i][j+h]!='I-PER':\n",
        "              mylist.append((i,j,j+h-1))\n",
        "              break\n",
        "          else:\n",
        "            if  test_Y_pred[i][j+h]=='I-PER' and h==len(test_Y_pred[i])-j-1:\n",
        "              mylist.append((i,j,j+h))\n",
        "\n",
        "myLOClist=[]\n",
        "for i in range(0,len(test_Y_pred)):\n",
        "  if test_Y_pred[i][len(test_Y_pred[i])-1]=='B-LOC':\n",
        "    myLOClist.append((i,len(test_Y_pred[i])-1,len(test_Y_pred[i])-1))\n",
        "  for j in range(0,len(test_Y_pred[i])):\n",
        "    if test_Y_pred[i][j]=='B-LOC':\n",
        "      for h in range(1,len(test_Y_pred[i])-j):\n",
        "          if test_Y_pred[i][j+h]!='I-LOC':\n",
        "              myLOClist.append((i,j,j+h-1))\n",
        "              break\n",
        "          else:\n",
        "            if  test_Y_pred[i][j+h]=='I-LOC' and h==len(test_Y_pred[i])-j-1:\n",
        "              myLOClist.append((i,j,j+h))"
      ],
      "execution_count": null,
      "outputs": []
    },
    {
      "cell_type": "code",
      "metadata": {
        "id": "XUyeuI3yb4ZD"
      },
      "source": [
        "true_PERlist=[]\n",
        "\n",
        "for i in range(0,len(twitter_ner)):\n",
        "  if twitter_ner[i][len(twitter_ner[i])-1][1]=='B-PER':\n",
        "    true_PERlist.append((i,len(twitter_ner[i])-1,len(twitter_ner[i])-1))\n",
        "  for j in range(0,len(twitter_ner[i])):\n",
        "    if twitter_ner[i][j][1]=='B-PER':\n",
        "      for h in range(1,len(twitter_ner[i])-j):\n",
        "        if twitter_ner[i][j+h][1]!='I-PER':\n",
        "          true_PERlist.append((i,j,j+h-1))\n",
        "          #print((i,j,j+h-1))\n",
        "          break\n",
        "        else:\n",
        "          if  twitter_ner[i][j+h][1]=='I-PER' and h==len(twitter_ner[i])-j-1: # if 'I-PER' in the end\n",
        "            true_PERlist.append((i,j,j+h))\n",
        "\n",
        "true_LOClist=[]\n",
        "for i in range(0,len(twitter_ner)):\n",
        "  if twitter_ner[i][len(twitter_ner[i])-1][1]=='B-LOC':\n",
        "    true_LOClist.append((i,len(twitter_ner[i])-1,len(twitter_ner[i])-1))\n",
        "  for j in range(0,len(twitter_ner[i])):\n",
        "    if twitter_ner[i][j][1]=='B-LOC':\n",
        "      for h in range(1,len(twitter_ner[i])-j):\n",
        "        if twitter_ner[i][j+h][1]!='I-LOC':\n",
        "          true_LOClist.append((i,j,j+h-1))\n",
        "          #print((i,j,j+h-1))\n",
        "          break\n",
        "        else:\n",
        "          if  twitter_ner[i][j+h][1]=='I-LOC' and h==len(twitter_ner[i])-j-1: # if 'I-LOC' in the end\n",
        "            true_LOClist.append((i,j,j+h))"
      ],
      "execution_count": null,
      "outputs": []
    },
    {
      "cell_type": "code",
      "metadata": {
        "colab": {
          "base_uri": "https://localhost:8080/"
        },
        "id": "CqNy86-OcFpw",
        "outputId": "fc2beffd-f12a-418a-8c73-29587fa66d9d"
      },
      "source": [
        "evla(mylist,true_PERlist) #table2,all features"
      ],
      "execution_count": null,
      "outputs": [
        {
          "output_type": "execute_result",
          "data": {
            "text/plain": [
              "{'F1_score': 0.39558573853989815,\n",
              " 'precison': 0.3196159122085048,\n",
              " 'recall': 0.5189309576837416}"
            ]
          },
          "metadata": {
            "tags": []
          },
          "execution_count": 135
        }
      ]
    },
    {
      "cell_type": "code",
      "metadata": {
        "colab": {
          "base_uri": "https://localhost:8080/"
        },
        "id": "xdppWUFkcFsE",
        "outputId": "2b76429d-5289-4742-fd74-4bf8d9549fde"
      },
      "source": [
        "evla(myLOClist,true_LOClist) #table_2,all features"
      ],
      "execution_count": null,
      "outputs": [
        {
          "output_type": "execute_result",
          "data": {
            "text/plain": [
              "{'F1_score': 0.4545454545454546,\n",
              " 'precison': 0.4391891891891892,\n",
              " 'recall': 0.47101449275362317}"
            ]
          },
          "metadata": {
            "tags": []
          },
          "execution_count": 136
        }
      ]
    },
    {
      "cell_type": "markdown",
      "metadata": {
        "id": "VSlIUE_emWO3"
      },
      "source": [
        "**Remove word feature**"
      ]
    },
    {
      "cell_type": "code",
      "metadata": {
        "id": "VkR-pqfccFx8"
      },
      "source": [
        "def feat_sent(sent):\n",
        "    sent_feats = []\n",
        "    for i in range(len(sent)):\n",
        "        feats = {}\n",
        "        # prefix and suffix\n",
        "        feats.update( feat_prefix(sent, i, 3) )\n",
        "        feats.update( feat_prefix(sent, i, 4) )\n",
        "        feats.update( feat_prefix(sent, i, 5) )\n",
        "        feats.update( feat_suffix(sent, i, 3) )\n",
        "        feats.update( feat_suffix(sent, i, 4) )\n",
        "        feats.update( feat_suffix(sent, i, 5) )\n",
        "\n",
        "        # word shape\n",
        "        feats.update( feat_wordshape(sent, i) )\n",
        "        feats.update( feat_wordshape_short(sent, i) )\n",
        "        sent_feats.append(feats)\n",
        "\n",
        "    return sent_feats"
      ],
      "execution_count": 137,
      "outputs": []
    },
    {
      "cell_type": "code",
      "metadata": {
        "colab": {
          "base_uri": "https://localhost:8080/"
        },
        "id": "Qi1uYLYJmh6P",
        "outputId": "ce341ae6-0855-45a0-c4f9-0ae09c294c49"
      },
      "source": [
        "def label_sent(sent):\n",
        "    return [ token[1] for token in sent ]\n",
        "    \n",
        "train_X = [ feat_sent(sent) for sent in conll2003_train]\n",
        "train_Y = [ label_sent(sent) for sent in conll2003_train]\n",
        "\n",
        "test_X = [ feat_sent(sent) for sent in twitter_ner ]\n",
        "test_Y = [ label_sent(sent) for sent in twitter_ner ]\n",
        "\n",
        "\n",
        "crf = sklearn_crfsuite.CRF()\n",
        "\n",
        "# train a CRF model on the training set\n",
        "crf.fit(train_X, train_Y)"
      ],
      "execution_count": 138,
      "outputs": [
        {
          "output_type": "stream",
          "text": [
            "/usr/local/lib/python3.7/dist-packages/sklearn/base.py:213: FutureWarning: From version 0.24, get_params will raise an AttributeError if a parameter cannot be retrieved as an instance attribute. Previously it would return None.\n",
            "  FutureWarning)\n"
          ],
          "name": "stderr"
        },
        {
          "output_type": "execute_result",
          "data": {
            "text/plain": [
              "CRF(keep_tempfiles=None)"
            ]
          },
          "metadata": {
            "tags": []
          },
          "execution_count": 138
        }
      ]
    },
    {
      "cell_type": "code",
      "metadata": {
        "id": "jPb-KNvBmh8c"
      },
      "source": [
        "test_Y_pred = crf.predict(test_X)"
      ],
      "execution_count": 139,
      "outputs": []
    },
    {
      "cell_type": "code",
      "metadata": {
        "id": "YhbJ35AHmh_x"
      },
      "source": [
        "mylist=[]\n",
        "for i in range(0,len(test_Y_pred)):\n",
        "  if test_Y_pred[i][len(test_Y_pred[i])-1]=='B-PER':\n",
        "    mylist.append((i,len(test_Y_pred[i])-1,len(test_Y_pred[i])-1))\n",
        "  for j in range(0,len(test_Y_pred[i])):\n",
        "    if test_Y_pred[i][j]=='B-PER':\n",
        "      for h in range(1,len(test_Y_pred[i])-j):\n",
        "          if test_Y_pred[i][j+h]!='I-PER':\n",
        "              mylist.append((i,j,j+h-1))\n",
        "              break\n",
        "          else:\n",
        "            if  test_Y_pred[i][j+h]=='I-PER' and h==len(test_Y_pred[i])-j-1:\n",
        "              mylist.append((i,j,j+h))\n",
        "\n",
        "myLOClist=[]\n",
        "for i in range(0,len(test_Y_pred)):\n",
        "  if test_Y_pred[i][len(test_Y_pred[i])-1]=='B-LOC':\n",
        "    myLOClist.append((i,len(test_Y_pred[i])-1,len(test_Y_pred[i])-1))\n",
        "  for j in range(0,len(test_Y_pred[i])):\n",
        "    if test_Y_pred[i][j]=='B-LOC':\n",
        "      for h in range(1,len(test_Y_pred[i])-j):\n",
        "          if test_Y_pred[i][j+h]!='I-LOC':\n",
        "              myLOClist.append((i,j,j+h-1))\n",
        "              break\n",
        "          else:\n",
        "            if  test_Y_pred[i][j+h]=='I-LOC' and h==len(test_Y_pred[i])-j-1:\n",
        "              myLOClist.append((i,j,j+h))"
      ],
      "execution_count": 140,
      "outputs": []
    },
    {
      "cell_type": "code",
      "metadata": {
        "id": "mfMZPSQAmiCz"
      },
      "source": [
        "true_PERlist=[]\n",
        "\n",
        "for i in range(0,len(twitter_ner)):\n",
        "  if twitter_ner[i][len(twitter_ner[i])-1][1]=='B-PER':\n",
        "    true_PERlist.append((i,len(twitter_ner[i])-1,len(twitter_ner[i])-1))\n",
        "  for j in range(0,len(twitter_ner[i])):\n",
        "    if twitter_ner[i][j][1]=='B-PER':\n",
        "      for h in range(1,len(twitter_ner[i])-j):\n",
        "        if twitter_ner[i][j+h][1]!='I-PER':\n",
        "          true_PERlist.append((i,j,j+h-1))\n",
        "          #print((i,j,j+h-1))\n",
        "          break\n",
        "        else:\n",
        "          if  twitter_ner[i][j+h][1]=='I-PER' and h==len(twitter_ner[i])-j-1: # if 'I-PER' in the end\n",
        "            true_PERlist.append((i,j,j+h))\n",
        "\n",
        "true_LOClist=[]\n",
        "for i in range(0,len(twitter_ner)):\n",
        "  if twitter_ner[i][len(twitter_ner[i])-1][1]=='B-LOC':\n",
        "    true_LOClist.append((i,len(twitter_ner[i])-1,len(twitter_ner[i])-1))\n",
        "  for j in range(0,len(twitter_ner[i])):\n",
        "    if twitter_ner[i][j][1]=='B-LOC':\n",
        "      for h in range(1,len(twitter_ner[i])-j):\n",
        "        if twitter_ner[i][j+h][1]!='I-LOC':\n",
        "          true_LOClist.append((i,j,j+h-1))\n",
        "          #print((i,j,j+h-1))\n",
        "          break\n",
        "        else:\n",
        "          if  twitter_ner[i][j+h][1]=='I-LOC' and h==len(twitter_ner[i])-j-1: # if 'I-LOC' in the end\n",
        "            true_LOClist.append((i,j,j+h))"
      ],
      "execution_count": 141,
      "outputs": []
    },
    {
      "cell_type": "code",
      "metadata": {
        "colab": {
          "base_uri": "https://localhost:8080/"
        },
        "id": "fFmVYKAfm1Y-",
        "outputId": "7bdbcc8b-e64e-403f-cfb1-0dc5850b01ae"
      },
      "source": [
        "evla(mylist,true_PERlist) "
      ],
      "execution_count": 142,
      "outputs": [
        {
          "output_type": "execute_result",
          "data": {
            "text/plain": [
              "{'F1_score': 0.24303232998885174,\n",
              " 'precison': 0.1620817843866171,\n",
              " 'recall': 0.48552338530066813}"
            ]
          },
          "metadata": {
            "tags": []
          },
          "execution_count": 142
        }
      ]
    },
    {
      "cell_type": "code",
      "metadata": {
        "colab": {
          "base_uri": "https://localhost:8080/"
        },
        "id": "I5iC0zO1m1bZ",
        "outputId": "1bfd1ad7-3119-4122-e92f-52df7ec3267f"
      },
      "source": [
        "evla(myLOClist,true_LOClist)"
      ],
      "execution_count": 143,
      "outputs": [
        {
          "output_type": "execute_result",
          "data": {
            "text/plain": [
              "{'F1_score': 0.2638146167557932,\n",
              " 'precison': 0.2596491228070175,\n",
              " 'recall': 0.26811594202898553}"
            ]
          },
          "metadata": {
            "tags": []
          },
          "execution_count": 143
        }
      ]
    },
    {
      "cell_type": "markdown",
      "metadata": {
        "id": "oUGpI6GOnBlE"
      },
      "source": [
        "**Remove prefix/suffix feature**"
      ]
    },
    {
      "cell_type": "code",
      "metadata": {
        "id": "OXolVwEDm1fd"
      },
      "source": [
        "def feat_sent(sent):\n",
        "    sent_feats = []\n",
        "    for i in range(len(sent)):\n",
        "        feats = {}\n",
        "        # word features\n",
        "        feats.update(feat_w(sent, i, 0))\n",
        "        feats.update(feat_w(sent, i, 1))\n",
        "        feats.update(feat_w(sent, i, -1))\n",
        "\n",
        "\n",
        "        # word shape\n",
        "        feats.update( feat_wordshape(sent, i) )\n",
        "        feats.update( feat_wordshape_short(sent, i) )\n",
        "        sent_feats.append(feats)\n",
        "\n",
        "    return sent_feats"
      ],
      "execution_count": 144,
      "outputs": []
    },
    {
      "cell_type": "code",
      "metadata": {
        "colab": {
          "base_uri": "https://localhost:8080/"
        },
        "id": "CyvOTG2qnQuQ",
        "outputId": "91c7141a-0c52-4ee3-c66f-899c14b743ca"
      },
      "source": [
        "def label_sent(sent):\n",
        "    return [ token[1] for token in sent ]\n",
        "    \n",
        "train_X = [ feat_sent(sent) for sent in conll2003_train]\n",
        "train_Y = [ label_sent(sent) for sent in conll2003_train]\n",
        "\n",
        "test_X = [ feat_sent(sent) for sent in twitter_ner ]\n",
        "test_Y = [ label_sent(sent) for sent in twitter_ner ]\n",
        "\n",
        "\n",
        "crf = sklearn_crfsuite.CRF()\n",
        "\n",
        "# train a CRF model on the training set\n",
        "crf.fit(train_X, train_Y)"
      ],
      "execution_count": 145,
      "outputs": [
        {
          "output_type": "stream",
          "text": [
            "/usr/local/lib/python3.7/dist-packages/sklearn/base.py:213: FutureWarning: From version 0.24, get_params will raise an AttributeError if a parameter cannot be retrieved as an instance attribute. Previously it would return None.\n",
            "  FutureWarning)\n"
          ],
          "name": "stderr"
        },
        {
          "output_type": "execute_result",
          "data": {
            "text/plain": [
              "CRF(keep_tempfiles=None)"
            ]
          },
          "metadata": {
            "tags": []
          },
          "execution_count": 145
        }
      ]
    },
    {
      "cell_type": "code",
      "metadata": {
        "id": "kjUsZ1NcnQwd"
      },
      "source": [
        "test_Y_pred = crf.predict(test_X)"
      ],
      "execution_count": 146,
      "outputs": []
    },
    {
      "cell_type": "code",
      "metadata": {
        "id": "AnTiCHx7nQys"
      },
      "source": [
        "mylist=[]\n",
        "for i in range(0,len(test_Y_pred)):\n",
        "  if test_Y_pred[i][len(test_Y_pred[i])-1]=='B-PER':\n",
        "    mylist.append((i,len(test_Y_pred[i])-1,len(test_Y_pred[i])-1))\n",
        "  for j in range(0,len(test_Y_pred[i])):\n",
        "    if test_Y_pred[i][j]=='B-PER':\n",
        "      for h in range(1,len(test_Y_pred[i])-j):\n",
        "          if test_Y_pred[i][j+h]!='I-PER':\n",
        "              mylist.append((i,j,j+h-1))\n",
        "              break\n",
        "          else:\n",
        "            if  test_Y_pred[i][j+h]=='I-PER' and h==len(test_Y_pred[i])-j-1:\n",
        "              mylist.append((i,j,j+h))\n",
        "\n",
        "myLOClist=[]\n",
        "for i in range(0,len(test_Y_pred)):\n",
        "  if test_Y_pred[i][len(test_Y_pred[i])-1]=='B-LOC':\n",
        "    myLOClist.append((i,len(test_Y_pred[i])-1,len(test_Y_pred[i])-1))\n",
        "  for j in range(0,len(test_Y_pred[i])):\n",
        "    if test_Y_pred[i][j]=='B-LOC':\n",
        "      for h in range(1,len(test_Y_pred[i])-j):\n",
        "          if test_Y_pred[i][j+h]!='I-LOC':\n",
        "              myLOClist.append((i,j,j+h-1))\n",
        "              break\n",
        "          else:\n",
        "            if  test_Y_pred[i][j+h]=='I-LOC' and h==len(test_Y_pred[i])-j-1:\n",
        "              myLOClist.append((i,j,j+h))"
      ],
      "execution_count": 148,
      "outputs": []
    },
    {
      "cell_type": "code",
      "metadata": {
        "id": "a4srhqyMnQ0Q"
      },
      "source": [
        "true_PERlist=[]\n",
        "\n",
        "for i in range(0,len(twitter_ner)):\n",
        "  if twitter_ner[i][len(twitter_ner[i])-1][1]=='B-PER':\n",
        "    true_PERlist.append((i,len(twitter_ner[i])-1,len(twitter_ner[i])-1))\n",
        "  for j in range(0,len(twitter_ner[i])):\n",
        "    if twitter_ner[i][j][1]=='B-PER':\n",
        "      for h in range(1,len(twitter_ner[i])-j):\n",
        "        if twitter_ner[i][j+h][1]!='I-PER':\n",
        "          true_PERlist.append((i,j,j+h-1))\n",
        "          #print((i,j,j+h-1))\n",
        "          break\n",
        "        else:\n",
        "          if  twitter_ner[i][j+h][1]=='I-PER' and h==len(twitter_ner[i])-j-1: # if 'I-PER' in the end\n",
        "            true_PERlist.append((i,j,j+h))\n",
        "\n",
        "true_LOClist=[]\n",
        "for i in range(0,len(twitter_ner)):\n",
        "  if twitter_ner[i][len(twitter_ner[i])-1][1]=='B-LOC':\n",
        "    true_LOClist.append((i,len(twitter_ner[i])-1,len(twitter_ner[i])-1))\n",
        "  for j in range(0,len(twitter_ner[i])):\n",
        "    if twitter_ner[i][j][1]=='B-LOC':\n",
        "      for h in range(1,len(twitter_ner[i])-j):\n",
        "        if twitter_ner[i][j+h][1]!='I-LOC':\n",
        "          true_LOClist.append((i,j,j+h-1))\n",
        "          #print((i,j,j+h-1))\n",
        "          break\n",
        "        else:\n",
        "          if  twitter_ner[i][j+h][1]=='I-LOC' and h==len(twitter_ner[i])-j-1: # if 'I-LOC' in the end\n",
        "            true_LOClist.append((i,j,j+h))"
      ],
      "execution_count": 149,
      "outputs": []
    },
    {
      "cell_type": "code",
      "metadata": {
        "colab": {
          "base_uri": "https://localhost:8080/"
        },
        "id": "ZTN7RG-PnQ37",
        "outputId": "a0979630-5dad-4e2d-d86d-d434e8bb7dfe"
      },
      "source": [
        "evla(mylist,true_PERlist) "
      ],
      "execution_count": 150,
      "outputs": [
        {
          "output_type": "execute_result",
          "data": {
            "text/plain": [
              "{'F1_score': 0.34855545200372784,\n",
              " 'precison': 0.29967948717948717,\n",
              " 'recall': 0.41648106904231624}"
            ]
          },
          "metadata": {
            "tags": []
          },
          "execution_count": 150
        }
      ]
    },
    {
      "cell_type": "code",
      "metadata": {
        "colab": {
          "base_uri": "https://localhost:8080/"
        },
        "id": "C0cO3sl5nhsL",
        "outputId": "65222e10-9329-4aa2-8a1a-1b3960b548e7"
      },
      "source": [
        "evla(myLOClist,true_LOClist)"
      ],
      "execution_count": 151,
      "outputs": [
        {
          "output_type": "execute_result",
          "data": {
            "text/plain": [
              "{'F1_score': 0.4155405405405405,\n",
              " 'precison': 0.38924050632911394,\n",
              " 'recall': 0.44565217391304346}"
            ]
          },
          "metadata": {
            "tags": []
          },
          "execution_count": 151
        }
      ]
    },
    {
      "cell_type": "markdown",
      "metadata": {
        "id": "G6bVmmshnu2D"
      },
      "source": [
        "**Remove shape feature**"
      ]
    },
    {
      "cell_type": "code",
      "metadata": {
        "id": "T_kBTSKCnuMt"
      },
      "source": [
        "def feat_sent(sent):\n",
        "    sent_feats = []\n",
        "    for i in range(len(sent)):\n",
        "        feats = {}\n",
        "        # word features\n",
        "        feats.update(feat_w(sent, i, 0))\n",
        "        feats.update(feat_w(sent, i, 1))\n",
        "        feats.update(feat_w(sent, i, -1))\n",
        "\n",
        "        # prefix and suffix\n",
        "        feats.update( feat_prefix(sent, i, 3) )\n",
        "        feats.update( feat_prefix(sent, i, 4) )\n",
        "        feats.update( feat_prefix(sent, i, 5) )\n",
        "        feats.update( feat_suffix(sent, i, 3) )\n",
        "        feats.update( feat_suffix(sent, i, 4) )\n",
        "        feats.update( feat_suffix(sent, i, 5) )\n",
        "        sent_feats.append(feats)\n",
        "\n",
        "    return sent_feats"
      ],
      "execution_count": 257,
      "outputs": []
    },
    {
      "cell_type": "code",
      "metadata": {
        "colab": {
          "base_uri": "https://localhost:8080/"
        },
        "id": "kerLzr0Kn8OE",
        "outputId": "93fdc9b7-8320-4cfe-fed8-55137df22d77"
      },
      "source": [
        "def label_sent(sent):\n",
        "    return [ token[1] for token in sent ]\n",
        "    \n",
        "train_X = [ feat_sent(sent) for sent in conll2003_train]\n",
        "train_Y = [ label_sent(sent) for sent in conll2003_train]\n",
        "\n",
        "test_X = [ feat_sent(sent) for sent in twitter_ner ]\n",
        "test_Y = [ label_sent(sent) for sent in twitter_ner ]\n",
        "\n",
        "\n",
        "crf = sklearn_crfsuite.CRF()\n",
        "\n",
        "# train a CRF model on the training set\n",
        "crf.fit(train_X, train_Y)"
      ],
      "execution_count": 258,
      "outputs": [
        {
          "output_type": "stream",
          "text": [
            "/usr/local/lib/python3.7/dist-packages/sklearn/base.py:213: FutureWarning: From version 0.24, get_params will raise an AttributeError if a parameter cannot be retrieved as an instance attribute. Previously it would return None.\n",
            "  FutureWarning)\n"
          ],
          "name": "stderr"
        },
        {
          "output_type": "execute_result",
          "data": {
            "text/plain": [
              "CRF(keep_tempfiles=None)"
            ]
          },
          "metadata": {
            "tags": []
          },
          "execution_count": 258
        }
      ]
    },
    {
      "cell_type": "code",
      "metadata": {
        "id": "8UVrp1Jin8P7"
      },
      "source": [
        "test_Y_pred = crf.predict(test_X)"
      ],
      "execution_count": 259,
      "outputs": []
    },
    {
      "cell_type": "code",
      "metadata": {
        "id": "k118pAsan8Ri"
      },
      "source": [
        "mylist=[]\n",
        "for i in range(0,len(test_Y_pred)):\n",
        "  if test_Y_pred[i][len(test_Y_pred[i])-1]=='B-PER':\n",
        "    mylist.append((i,len(test_Y_pred[i])-1,len(test_Y_pred[i])-1))\n",
        "  for j in range(0,len(test_Y_pred[i])):\n",
        "    if test_Y_pred[i][j]=='B-PER':\n",
        "      for h in range(1,len(test_Y_pred[i])-j):\n",
        "          if test_Y_pred[i][j+h]!='I-PER':\n",
        "              mylist.append((i,j,j+h-1))\n",
        "              break\n",
        "          else:\n",
        "            if  test_Y_pred[i][j+h]=='I-PER' and h==len(test_Y_pred[i])-j-1:\n",
        "              mylist.append((i,j,j+h))\n",
        "\n",
        "myLOClist=[]\n",
        "for i in range(0,len(test_Y_pred)):\n",
        "  if test_Y_pred[i][len(test_Y_pred[i])-1]=='B-LOC':\n",
        "    myLOClist.append((i,len(test_Y_pred[i])-1,len(test_Y_pred[i])-1))\n",
        "  for j in range(0,len(test_Y_pred[i])):\n",
        "    if test_Y_pred[i][j]=='B-LOC':\n",
        "      for h in range(1,len(test_Y_pred[i])-j):\n",
        "          if test_Y_pred[i][j+h]!='I-LOC':\n",
        "              myLOClist.append((i,j,j+h-1))\n",
        "              break\n",
        "          else:\n",
        "            if  test_Y_pred[i][j+h]=='I-LOC' and h==len(test_Y_pred[i])-j-1:\n",
        "              myLOClist.append((i,j,j+h))"
      ],
      "execution_count": 260,
      "outputs": []
    },
    {
      "cell_type": "code",
      "metadata": {
        "id": "xFzcAnZsn8TZ"
      },
      "source": [
        "true_PERlist=[]\n",
        "\n",
        "for i in range(0,len(twitter_ner)):\n",
        "  if twitter_ner[i][len(twitter_ner[i])-1][1]=='B-PER':\n",
        "    true_PERlist.append((i,len(twitter_ner[i])-1,len(twitter_ner[i])-1))\n",
        "  for j in range(0,len(twitter_ner[i])):\n",
        "    if twitter_ner[i][j][1]=='B-PER':\n",
        "      for h in range(1,len(twitter_ner[i])-j):\n",
        "        if twitter_ner[i][j+h][1]!='I-PER':\n",
        "          true_PERlist.append((i,j,j+h-1))\n",
        "          #print((i,j,j+h-1))\n",
        "          break\n",
        "        else:\n",
        "          if  twitter_ner[i][j+h][1]=='I-PER' and h==len(twitter_ner[i])-j-1: # if 'I-PER' in the end\n",
        "            true_PERlist.append((i,j,j+h))\n",
        "\n",
        "true_LOClist=[]\n",
        "for i in range(0,len(twitter_ner)):\n",
        "  if twitter_ner[i][len(twitter_ner[i])-1][1]=='B-LOC':\n",
        "    true_LOClist.append((i,len(twitter_ner[i])-1,len(twitter_ner[i])-1))\n",
        "  for j in range(0,len(twitter_ner[i])):\n",
        "    if twitter_ner[i][j][1]=='B-LOC':\n",
        "      for h in range(1,len(twitter_ner[i])-j):\n",
        "        if twitter_ner[i][j+h][1]!='I-LOC':\n",
        "          true_LOClist.append((i,j,j+h-1))\n",
        "          break\n",
        "        else:\n",
        "          if  twitter_ner[i][j+h][1]=='I-LOC' and h==len(twitter_ner[i])-j-1: # if 'I-LOC' in the end\n",
        "            true_LOClist.append((i,j,j+h))"
      ],
      "execution_count": 261,
      "outputs": []
    },
    {
      "cell_type": "code",
      "metadata": {
        "colab": {
          "base_uri": "https://localhost:8080/"
        },
        "id": "0S70RiUrn8Vu",
        "outputId": "721db85f-d884-4940-9733-172d8d353380"
      },
      "source": [
        "evla(mylist,true_PERlist) "
      ],
      "execution_count": 262,
      "outputs": [
        {
          "output_type": "execute_result",
          "data": {
            "text/plain": [
              "{'F1_score': 0.38545454545454544,\n",
              " 'precison': 0.4228723404255319,\n",
              " 'recall': 0.35412026726057905}"
            ]
          },
          "metadata": {
            "tags": []
          },
          "execution_count": 262
        }
      ]
    },
    {
      "cell_type": "code",
      "metadata": {
        "colab": {
          "base_uri": "https://localhost:8080/"
        },
        "id": "OD3cUN6-n8ZE",
        "outputId": "8fda7e58-ad06-406f-dd29-90343627686a"
      },
      "source": [
        "evla(myLOClist,true_LOClist)"
      ],
      "execution_count": 263,
      "outputs": [
        {
          "output_type": "execute_result",
          "data": {
            "text/plain": [
              "{'F1_score': 0.43280182232346237,\n",
              " 'precison': 0.5828220858895705,\n",
              " 'recall': 0.3442028985507246}"
            ]
          },
          "metadata": {
            "tags": []
          },
          "execution_count": 263
        }
      ]
    },
    {
      "cell_type": "markdown",
      "metadata": {
        "id": "XT9gboQ5oXL4"
      },
      "source": [
        "**Only word feature**"
      ]
    },
    {
      "cell_type": "code",
      "metadata": {
        "id": "HJJRq0UaoWW1"
      },
      "source": [
        "def feat_sent(sent):\n",
        "    sent_feats = []\n",
        "    for i in range(len(sent)):\n",
        "        feats = {}\n",
        "        # word features\n",
        "        feats.update(feat_w(sent, i, 0))\n",
        "        feats.update(feat_w(sent, i, 1))\n",
        "        feats.update(feat_w(sent, i, -1))\n",
        "        sent_feats.append(feats)\n",
        "\n",
        "    return sent_feats"
      ],
      "execution_count": 165,
      "outputs": []
    },
    {
      "cell_type": "code",
      "metadata": {
        "colab": {
          "base_uri": "https://localhost:8080/"
        },
        "id": "cCE4gGY4oWY0",
        "outputId": "3d41b707-6d1c-4608-dd7c-e917b99d1b9a"
      },
      "source": [
        "def label_sent(sent):\n",
        "    return [ token[1] for token in sent ]\n",
        "    \n",
        "train_X = [ feat_sent(sent) for sent in conll2003_train]\n",
        "train_Y = [ label_sent(sent) for sent in conll2003_train]\n",
        "\n",
        "test_X = [ feat_sent(sent) for sent in twitter_ner ]\n",
        "test_Y = [ label_sent(sent) for sent in twitter_ner ]\n",
        "\n",
        "import sklearn_crfsuite\n",
        "from sklearn_crfsuite import scorers\n",
        "from sklearn_crfsuite import metrics\n",
        "\n",
        "crf = sklearn_crfsuite.CRF()\n",
        "\n",
        "# train a CRF model on the training set\n",
        "crf.fit(train_X, train_Y)"
      ],
      "execution_count": 166,
      "outputs": [
        {
          "output_type": "stream",
          "text": [
            "/usr/local/lib/python3.7/dist-packages/sklearn/base.py:213: FutureWarning: From version 0.24, get_params will raise an AttributeError if a parameter cannot be retrieved as an instance attribute. Previously it would return None.\n",
            "  FutureWarning)\n"
          ],
          "name": "stderr"
        },
        {
          "output_type": "execute_result",
          "data": {
            "text/plain": [
              "CRF(keep_tempfiles=None)"
            ]
          },
          "metadata": {
            "tags": []
          },
          "execution_count": 166
        }
      ]
    },
    {
      "cell_type": "code",
      "metadata": {
        "id": "CaiXds7joWar"
      },
      "source": [
        "test_Y_pred = crf.predict(test_X)"
      ],
      "execution_count": 167,
      "outputs": []
    },
    {
      "cell_type": "code",
      "metadata": {
        "id": "NP6R_fDXoWeF"
      },
      "source": [
        "mylist=[]\n",
        "for i in range(0,len(test_Y_pred)):\n",
        "  if test_Y_pred[i][len(test_Y_pred[i])-1]=='B-PER':\n",
        "    mylist.append((i,len(test_Y_pred[i])-1,len(test_Y_pred[i])-1))\n",
        "  for j in range(0,len(test_Y_pred[i])):\n",
        "    if test_Y_pred[i][j]=='B-PER':\n",
        "      for h in range(1,len(test_Y_pred[i])-j):\n",
        "          if test_Y_pred[i][j+h]!='I-PER':\n",
        "              mylist.append((i,j,j+h-1))\n",
        "              break\n",
        "          else:\n",
        "            if  test_Y_pred[i][j+h]=='I-PER' and h==len(test_Y_pred[i])-j-1:\n",
        "              mylist.append((i,j,j+h))\n",
        "\n",
        "myLOClist=[]\n",
        "for i in range(0,len(test_Y_pred)):\n",
        "  if test_Y_pred[i][len(test_Y_pred[i])-1]=='B-LOC':\n",
        "    myLOClist.append((i,len(test_Y_pred[i])-1,len(test_Y_pred[i])-1))\n",
        "  for j in range(0,len(test_Y_pred[i])):\n",
        "    if test_Y_pred[i][j]=='B-LOC':\n",
        "      for h in range(1,len(test_Y_pred[i])-j):\n",
        "          if test_Y_pred[i][j+h]!='I-LOC':\n",
        "              myLOClist.append((i,j,j+h-1))\n",
        "              break\n",
        "          else:\n",
        "            if  test_Y_pred[i][j+h]=='I-LOC' and h==len(test_Y_pred[i])-j-1:\n",
        "              myLOClist.append((i,j,j+h))"
      ],
      "execution_count": 168,
      "outputs": []
    },
    {
      "cell_type": "code",
      "metadata": {
        "id": "EKhh_UuEqAvy"
      },
      "source": [
        "true_PERlist=[]\n",
        "\n",
        "for i in range(0,len(twitter_ner)):\n",
        "  if twitter_ner[i][len(twitter_ner[i])-1][1]=='B-PER':\n",
        "    true_PERlist.append((i,len(twitter_ner[i])-1,len(twitter_ner[i])-1))\n",
        "  for j in range(0,len(twitter_ner[i])):\n",
        "    if twitter_ner[i][j][1]=='B-PER':\n",
        "      for h in range(1,len(twitter_ner[i])-j):\n",
        "        if twitter_ner[i][j+h][1]!='I-PER':\n",
        "          true_PERlist.append((i,j,j+h-1))\n",
        "          #print((i,j,j+h-1))\n",
        "          break\n",
        "        else:\n",
        "          if  twitter_ner[i][j+h][1]=='I-PER' and h==len(twitter_ner[i])-j-1: # if 'I-PER' in the end\n",
        "            true_PERlist.append((i,j,j+h))\n",
        "\n",
        "true_LOClist=[]\n",
        "for i in range(0,len(twitter_ner)):\n",
        "  if twitter_ner[i][len(twitter_ner[i])-1][1]=='B-LOC':\n",
        "    true_LOClist.append((i,len(twitter_ner[i])-1,len(twitter_ner[i])-1))\n",
        "  for j in range(0,len(twitter_ner[i])):\n",
        "    if twitter_ner[i][j][1]=='B-LOC':\n",
        "      for h in range(1,len(twitter_ner[i])-j):\n",
        "        if twitter_ner[i][j+h][1]!='I-LOC':\n",
        "          true_LOClist.append((i,j,j+h-1))\n",
        "          #print((i,j,j+h-1))\n",
        "          break\n",
        "        else:\n",
        "          if  twitter_ner[i][j+h][1]=='I-LOC' and h==len(twitter_ner[i])-j-1: # if 'I-LOC' in the end\n",
        "            true_LOClist.append((i,j,j+h))"
      ],
      "execution_count": 170,
      "outputs": []
    },
    {
      "cell_type": "code",
      "metadata": {
        "colab": {
          "base_uri": "https://localhost:8080/"
        },
        "id": "oKJ-d1bDqDN-",
        "outputId": "e0c271b5-7de4-49b5-9c42-f59930240923"
      },
      "source": [
        "evla(mylist,true_PERlist) "
      ],
      "execution_count": 171,
      "outputs": [
        {
          "output_type": "execute_result",
          "data": {
            "text/plain": [
              "{'F1_score': 0.16859504132231404,\n",
              " 'precison': 0.3269230769230769,\n",
              " 'recall': 0.11358574610244988}"
            ]
          },
          "metadata": {
            "tags": []
          },
          "execution_count": 171
        }
      ]
    },
    {
      "cell_type": "code",
      "metadata": {
        "colab": {
          "base_uri": "https://localhost:8080/"
        },
        "id": "yOU8ddTsqDQS",
        "outputId": "2ec037bb-33b3-4352-8a73-d0cccb98a8b9"
      },
      "source": [
        "evla(myLOClist,true_LOClist)"
      ],
      "execution_count": 172,
      "outputs": [
        {
          "output_type": "execute_result",
          "data": {
            "text/plain": [
              "{'F1_score': 0.25210084033613445,\n",
              " 'precison': 0.5555555555555556,\n",
              " 'recall': 0.16304347826086957}"
            ]
          },
          "metadata": {
            "tags": []
          },
          "execution_count": 172
        }
      ]
    },
    {
      "cell_type": "markdown",
      "metadata": {
        "id": "JQCmbW60qVwQ"
      },
      "source": [
        "**Only prefix/suffix feature**"
      ]
    },
    {
      "cell_type": "code",
      "metadata": {
        "id": "UKhp7-xtqDSP"
      },
      "source": [
        "def feat_sent(sent):\n",
        "    sent_feats = []\n",
        "    for i in range(len(sent)):\n",
        "        feats = {}\n",
        "\n",
        "        # prefix and suffix\n",
        "        feats.update( feat_prefix(sent, i, 3) )\n",
        "        feats.update( feat_prefix(sent, i, 4) )\n",
        "        feats.update( feat_prefix(sent, i, 5) )\n",
        "        feats.update( feat_suffix(sent, i, 3) )\n",
        "        feats.update( feat_suffix(sent, i, 4) )\n",
        "        feats.update( feat_suffix(sent, i, 5) )\n",
        "        sent_feats.append(feats)\n",
        "\n",
        "    return sent_feats"
      ],
      "execution_count": 173,
      "outputs": []
    },
    {
      "cell_type": "code",
      "metadata": {
        "colab": {
          "base_uri": "https://localhost:8080/"
        },
        "id": "K5kBK6o2qDVX",
        "outputId": "6971ede3-61bd-4939-88c9-3d9fba5c41c1"
      },
      "source": [
        "def label_sent(sent):\n",
        "    return [ token[1] for token in sent ]\n",
        "    \n",
        "train_X = [ feat_sent(sent) for sent in conll2003_train]\n",
        "train_Y = [ label_sent(sent) for sent in conll2003_train]\n",
        "\n",
        "test_X = [ feat_sent(sent) for sent in twitter_ner ]\n",
        "test_Y = [ label_sent(sent) for sent in twitter_ner ]\n",
        "\n",
        "\n",
        "crf = sklearn_crfsuite.CRF()\n",
        "\n",
        "# train a CRF model on the training set\n",
        "crf.fit(train_X, train_Y)"
      ],
      "execution_count": 174,
      "outputs": [
        {
          "output_type": "stream",
          "text": [
            "/usr/local/lib/python3.7/dist-packages/sklearn/base.py:213: FutureWarning: From version 0.24, get_params will raise an AttributeError if a parameter cannot be retrieved as an instance attribute. Previously it would return None.\n",
            "  FutureWarning)\n"
          ],
          "name": "stderr"
        },
        {
          "output_type": "execute_result",
          "data": {
            "text/plain": [
              "CRF(keep_tempfiles=None)"
            ]
          },
          "metadata": {
            "tags": []
          },
          "execution_count": 174
        }
      ]
    },
    {
      "cell_type": "code",
      "metadata": {
        "id": "1-D5nF57qlul"
      },
      "source": [
        "test_Y_pred = crf.predict(test_X)"
      ],
      "execution_count": 175,
      "outputs": []
    },
    {
      "cell_type": "code",
      "metadata": {
        "id": "N6GhoyrjqoxC"
      },
      "source": [
        "mylist=[]\n",
        "for i in range(0,len(test_Y_pred)):\n",
        "  if test_Y_pred[i][len(test_Y_pred[i])-1]=='B-PER':\n",
        "    mylist.append((i,len(test_Y_pred[i])-1,len(test_Y_pred[i])-1))\n",
        "  for j in range(0,len(test_Y_pred[i])):\n",
        "    if test_Y_pred[i][j]=='B-PER':\n",
        "      for h in range(1,len(test_Y_pred[i])-j):\n",
        "          if test_Y_pred[i][j+h]!='I-PER':\n",
        "              mylist.append((i,j,j+h-1))\n",
        "              break\n",
        "          else:\n",
        "            if  test_Y_pred[i][j+h]=='I-PER' and h==len(test_Y_pred[i])-j-1:\n",
        "              mylist.append((i,j,j+h))\n",
        "\n",
        "myLOClist=[]\n",
        "for i in range(0,len(test_Y_pred)):\n",
        "  if test_Y_pred[i][len(test_Y_pred[i])-1]=='B-LOC':\n",
        "    myLOClist.append((i,len(test_Y_pred[i])-1,len(test_Y_pred[i])-1))\n",
        "  for j in range(0,len(test_Y_pred[i])):\n",
        "    if test_Y_pred[i][j]=='B-LOC':\n",
        "      for h in range(1,len(test_Y_pred[i])-j):\n",
        "          if test_Y_pred[i][j+h]!='I-LOC':\n",
        "              myLOClist.append((i,j,j+h-1))\n",
        "              break\n",
        "          else:\n",
        "            if  test_Y_pred[i][j+h]=='I-LOC' and h==len(test_Y_pred[i])-j-1:\n",
        "              myLOClist.append((i,j,j+h))"
      ],
      "execution_count": 176,
      "outputs": []
    },
    {
      "cell_type": "code",
      "metadata": {
        "id": "wsrWFZLSqoy1"
      },
      "source": [
        "true_PERlist=[]\n",
        "\n",
        "for i in range(0,len(twitter_ner)):\n",
        "  if twitter_ner[i][len(twitter_ner[i])-1][1]=='B-PER':\n",
        "    true_PERlist.append((i,len(twitter_ner[i])-1,len(twitter_ner[i])-1))\n",
        "  for j in range(0,len(twitter_ner[i])):\n",
        "    if twitter_ner[i][j][1]=='B-PER':\n",
        "      for h in range(1,len(twitter_ner[i])-j):\n",
        "        if twitter_ner[i][j+h][1]!='I-PER':\n",
        "          true_PERlist.append((i,j,j+h-1))\n",
        "          #print((i,j,j+h-1))\n",
        "          break\n",
        "        else:\n",
        "          if  twitter_ner[i][j+h][1]=='I-PER' and h==len(twitter_ner[i])-j-1: # if 'I-PER' in the end\n",
        "            true_PERlist.append((i,j,j+h))\n",
        "\n",
        "true_LOClist=[]\n",
        "for i in range(0,len(twitter_ner)):\n",
        "  if twitter_ner[i][len(twitter_ner[i])-1][1]=='B-LOC':\n",
        "    true_LOClist.append((i,len(twitter_ner[i])-1,len(twitter_ner[i])-1))\n",
        "  for j in range(0,len(twitter_ner[i])):\n",
        "    if twitter_ner[i][j][1]=='B-LOC':\n",
        "      for h in range(1,len(twitter_ner[i])-j):\n",
        "        if twitter_ner[i][j+h][1]!='I-LOC':\n",
        "          true_LOClist.append((i,j,j+h-1))\n",
        "          #print((i,j,j+h-1))\n",
        "          break\n",
        "        else:\n",
        "          if  twitter_ner[i][j+h][1]=='I-LOC' and h==len(twitter_ner[i])-j-1: # if 'I-LOC' in the end\n",
        "            true_LOClist.append((i,j,j+h))"
      ],
      "execution_count": 177,
      "outputs": []
    },
    {
      "cell_type": "code",
      "metadata": {
        "colab": {
          "base_uri": "https://localhost:8080/"
        },
        "id": "h_AQkFBKqo0x",
        "outputId": "7941d1c9-d26b-4381-feb3-fbb052e20995"
      },
      "source": [
        "evla(mylist,true_PERlist) "
      ],
      "execution_count": 178,
      "outputs": [
        {
          "output_type": "execute_result",
          "data": {
            "text/plain": [
              "{'F1_score': 0.21341107871720116,\n",
              " 'precison': 0.14454976303317535,\n",
              " 'recall': 0.40757238307349664}"
            ]
          },
          "metadata": {
            "tags": []
          },
          "execution_count": 178
        }
      ]
    },
    {
      "cell_type": "code",
      "metadata": {
        "colab": {
          "base_uri": "https://localhost:8080/"
        },
        "id": "XUurl8txqo3B",
        "outputId": "d8d88a16-42db-46c9-df7e-f234d538fb88"
      },
      "source": [
        "evla(myLOClist,true_LOClist)"
      ],
      "execution_count": 179,
      "outputs": [
        {
          "output_type": "execute_result",
          "data": {
            "text/plain": [
              "{'F1_score': 0.3227272727272727,\n",
              " 'precison': 0.4329268292682927,\n",
              " 'recall': 0.2572463768115942}"
            ]
          },
          "metadata": {
            "tags": []
          },
          "execution_count": 179
        }
      ]
    },
    {
      "cell_type": "markdown",
      "metadata": {
        "id": "pATTJzJsq7dN"
      },
      "source": [
        "**Only Shape feature**"
      ]
    },
    {
      "cell_type": "code",
      "metadata": {
        "id": "jW9TiJ7gqo6c"
      },
      "source": [
        "def feat_sent(sent):\n",
        "    sent_feats = []\n",
        "    for i in range(len(sent)):\n",
        "        feats = {}\n",
        "        # word shape\n",
        "        feats.update( feat_wordshape(sent, i) )\n",
        "        feats.update( feat_wordshape_short(sent, i) )\n",
        "        sent_feats.append(feats)\n",
        "\n",
        "    return sent_feats"
      ],
      "execution_count": 180,
      "outputs": []
    },
    {
      "cell_type": "code",
      "metadata": {
        "colab": {
          "base_uri": "https://localhost:8080/"
        },
        "id": "dr-ZQ9z3rJSL",
        "outputId": "81138ca7-4f79-420a-efad-47665a5a4fc5"
      },
      "source": [
        "def label_sent(sent):\n",
        "    return [ token[1] for token in sent ]\n",
        "    \n",
        "train_X = [ feat_sent(sent) for sent in conll2003_train]\n",
        "train_Y = [ label_sent(sent) for sent in conll2003_train]\n",
        "\n",
        "test_X = [ feat_sent(sent) for sent in twitter_ner ]\n",
        "test_Y = [ label_sent(sent) for sent in twitter_ner ]\n",
        "\n",
        "\n",
        "crf = sklearn_crfsuite.CRF()\n",
        "\n",
        "# train a CRF model on the training set\n",
        "crf.fit(train_X, train_Y)"
      ],
      "execution_count": 181,
      "outputs": [
        {
          "output_type": "stream",
          "text": [
            "/usr/local/lib/python3.7/dist-packages/sklearn/base.py:213: FutureWarning: From version 0.24, get_params will raise an AttributeError if a parameter cannot be retrieved as an instance attribute. Previously it would return None.\n",
            "  FutureWarning)\n"
          ],
          "name": "stderr"
        },
        {
          "output_type": "execute_result",
          "data": {
            "text/plain": [
              "CRF(keep_tempfiles=None)"
            ]
          },
          "metadata": {
            "tags": []
          },
          "execution_count": 181
        }
      ]
    },
    {
      "cell_type": "code",
      "metadata": {
        "id": "Dr41xTVFrJUk"
      },
      "source": [
        "test_Y_pred = crf.predict(test_X)"
      ],
      "execution_count": 182,
      "outputs": []
    },
    {
      "cell_type": "code",
      "metadata": {
        "id": "FgThOVGBrJWo"
      },
      "source": [
        "mylist=[]\n",
        "for i in range(0,len(test_Y_pred)):\n",
        "  if test_Y_pred[i][len(test_Y_pred[i])-1]=='B-PER':\n",
        "    mylist.append((i,len(test_Y_pred[i])-1,len(test_Y_pred[i])-1))\n",
        "  for j in range(0,len(test_Y_pred[i])):\n",
        "    if test_Y_pred[i][j]=='B-PER':\n",
        "      for h in range(1,len(test_Y_pred[i])-j):\n",
        "          if test_Y_pred[i][j+h]!='I-PER':\n",
        "              mylist.append((i,j,j+h-1))\n",
        "              break\n",
        "          else:\n",
        "            if  test_Y_pred[i][j+h]=='I-PER' and h==len(test_Y_pred[i])-j-1:\n",
        "              mylist.append((i,j,j+h))\n",
        "\n",
        "myLOClist=[]\n",
        "for i in range(0,len(test_Y_pred)):\n",
        "  if test_Y_pred[i][len(test_Y_pred[i])-1]=='B-LOC':\n",
        "    myLOClist.append((i,len(test_Y_pred[i])-1,len(test_Y_pred[i])-1))\n",
        "  for j in range(0,len(test_Y_pred[i])):\n",
        "    if test_Y_pred[i][j]=='B-LOC':\n",
        "      for h in range(1,len(test_Y_pred[i])-j):\n",
        "          if test_Y_pred[i][j+h]!='I-LOC':\n",
        "              myLOClist.append((i,j,j+h-1))\n",
        "              break\n",
        "          else:\n",
        "            if  test_Y_pred[i][j+h]=='I-LOC' and h==len(test_Y_pred[i])-j-1:\n",
        "              myLOClist.append((i,j,j+h))"
      ],
      "execution_count": 183,
      "outputs": []
    },
    {
      "cell_type": "code",
      "metadata": {
        "id": "uE5kAb6_rJZ1"
      },
      "source": [
        "true_PERlist=[]\n",
        "\n",
        "for i in range(0,len(twitter_ner)):\n",
        "  if twitter_ner[i][len(twitter_ner[i])-1][1]=='B-PER':\n",
        "    true_PERlist.append((i,len(twitter_ner[i])-1,len(twitter_ner[i])-1))\n",
        "  for j in range(0,len(twitter_ner[i])):\n",
        "    if twitter_ner[i][j][1]=='B-PER':\n",
        "      for h in range(1,len(twitter_ner[i])-j):\n",
        "        if twitter_ner[i][j+h][1]!='I-PER':\n",
        "          true_PERlist.append((i,j,j+h-1))\n",
        "          #print((i,j,j+h-1))\n",
        "          break\n",
        "        else:\n",
        "          if  twitter_ner[i][j+h][1]=='I-PER' and h==len(twitter_ner[i])-j-1: # if 'I-PER' in the end\n",
        "            true_PERlist.append((i,j,j+h))\n",
        "\n",
        "true_LOClist=[]\n",
        "for i in range(0,len(twitter_ner)):\n",
        "  if twitter_ner[i][len(twitter_ner[i])-1][1]=='B-LOC':\n",
        "    true_LOClist.append((i,len(twitter_ner[i])-1,len(twitter_ner[i])-1))\n",
        "  for j in range(0,len(twitter_ner[i])):\n",
        "    if twitter_ner[i][j][1]=='B-LOC':\n",
        "      for h in range(1,len(twitter_ner[i])-j):\n",
        "        if twitter_ner[i][j+h][1]!='I-LOC':\n",
        "          true_LOClist.append((i,j,j+h-1))\n",
        "          #print((i,j,j+h-1))\n",
        "          break\n",
        "        else:\n",
        "          if  twitter_ner[i][j+h][1]=='I-LOC' and h==len(twitter_ner[i])-j-1: # if 'I-LOC' in the end\n",
        "            true_LOClist.append((i,j,j+h))"
      ],
      "execution_count": 184,
      "outputs": []
    },
    {
      "cell_type": "code",
      "metadata": {
        "colab": {
          "base_uri": "https://localhost:8080/"
        },
        "id": "19Wc2fsZrWPz",
        "outputId": "ab2c54bb-8e75-4cc0-937d-bc55671c274f"
      },
      "source": [
        "evla(mylist,true_PERlist) "
      ],
      "execution_count": 185,
      "outputs": [
        {
          "output_type": "execute_result",
          "data": {
            "text/plain": [
              "{'F1_score': 0.16131558339859042,\n",
              " 'precison': 0.12439613526570048,\n",
              " 'recall': 0.22939866369710468}"
            ]
          },
          "metadata": {
            "tags": []
          },
          "execution_count": 185
        }
      ]
    },
    {
      "cell_type": "code",
      "metadata": {
        "colab": {
          "base_uri": "https://localhost:8080/"
        },
        "id": "yCt6KAidrWTW",
        "outputId": "1610973d-7777-490f-b4c1-98094cb61936"
      },
      "source": [
        "evla(myLOClist,true_LOClist)"
      ],
      "execution_count": 186,
      "outputs": [
        {
          "output_type": "execute_result",
          "data": {
            "text/plain": [
              "{'F1_score': 0.14395393474088292,\n",
              " 'precison': 0.097911227154047,\n",
              " 'recall': 0.2717391304347826}"
            ]
          },
          "metadata": {
            "tags": []
          },
          "execution_count": 186
        }
      ]
    }
  ]
}